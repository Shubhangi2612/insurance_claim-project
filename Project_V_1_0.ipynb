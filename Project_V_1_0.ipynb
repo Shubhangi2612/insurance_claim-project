{
  "nbformat": 4,
  "nbformat_minor": 0,
  "metadata": {
    "colab": {
      "name": "Project_V_1.0.ipynb",
      "provenance": [],
      "collapsed_sections": [],
      "include_colab_link": true
    },
    "kernelspec": {
      "name": "python3",
      "display_name": "Python 3"
    },
    "accelerator": "GPU"
  },
  "cells": [
    {
      "cell_type": "markdown",
      "metadata": {
        "id": "view-in-github",
        "colab_type": "text"
      },
      "source": [
        "<a href=\"https://colab.research.google.com/github/Shubhangi2612/insurance_claim-project/blob/master/Project_V_1_0.ipynb\" target=\"_parent\"><img src=\"https://colab.research.google.com/assets/colab-badge.svg\" alt=\"Open In Colab\"/></a>"
      ]
    },
    {
      "cell_type": "markdown",
      "metadata": {
        "id": "OTGXfjHdxRJq"
      },
      "source": [
        "\r\n",
        "\r\n",
        "> Load the Drive helper and mount\r\n",
        "\r\n",
        "---\r\n",
        "\r\n",
        "\r\n",
        "\r\n"
      ]
    },
    {
      "cell_type": "code",
      "metadata": {
        "id": "DwR9pjSmxm75",
        "colab": {
          "base_uri": "https://localhost:8080/"
        },
        "outputId": "102b7003-17e7-4d71-daee-72854f90fe05"
      },
      "source": [
        "# Load the Drive helper and mount.\r\n",
        "from google.colab import drive\r\n",
        "\r\n",
        "# Loading libraries\r\n",
        "from sklearn.preprocessing import LabelEncoder, OneHotEncoder # used for encoding categorical data\r\n",
        "from sklearn.preprocessing import StandardScaler # used for feature scaling\r\n",
        "from sklearn.compose import ColumnTransformer\r\n",
        "%matplotlib inline\r\n",
        "from matplotlib import pyplot as plt\r\n",
        "from statsmodels.stats.outliers_influence import variance_inflation_factor\r\n",
        "from sklearn.preprocessing import StandardScaler\r\n",
        "from scipy import stats\r\n",
        "from sklearn.model_selection import train_test_split\r\n",
        "from imblearn.over_sampling import SMOTE \r\n",
        "from sklearn.linear_model import LogisticRegression \r\n",
        "from sklearn.neighbors import KNeighborsClassifier\r\n",
        "from sklearn.ensemble import RandomForestClassifier\r\n",
        "from sklearn.metrics import confusion_matrix, classification_report \r\n",
        "\r\n",
        "import pandas as pd # used for handling dataset\r\n",
        "import numpy as np # used for handling numbers\r\n",
        "import seaborn as sns \r\n",
        "import warnings\r\n",
        "warnings.filterwarnings(\"ignore\")\r\n",
        "print(\"done importing\")\r\n"
      ],
      "execution_count": null,
      "outputs": [
        {
          "output_type": "stream",
          "text": [
            "/usr/local/lib/python3.6/dist-packages/statsmodels/tools/_testing.py:19: FutureWarning: pandas.util.testing is deprecated. Use the functions in the public API at pandas.testing instead.\n",
            "  import pandas.util.testing as tm\n",
            "/usr/local/lib/python3.6/dist-packages/sklearn/externals/six.py:31: FutureWarning: The module is deprecated in version 0.21 and will be removed in version 0.23 since we've dropped support for Python 2.7. Please rely on the official version of six (https://pypi.org/project/six/).\n",
            "  \"(https://pypi.org/project/six/).\", FutureWarning)\n"
          ],
          "name": "stderr"
        },
        {
          "output_type": "stream",
          "text": [
            "done importing\n"
          ],
          "name": "stdout"
        },
        {
          "output_type": "stream",
          "text": [
            "/usr/local/lib/python3.6/dist-packages/sklearn/utils/deprecation.py:144: FutureWarning: The sklearn.neighbors.base module is  deprecated in version 0.22 and will be removed in version 0.24. The corresponding classes / functions should instead be imported from sklearn.neighbors. Anything that cannot be imported from sklearn.neighbors is now part of the private API.\n",
            "  warnings.warn(message, FutureWarning)\n"
          ],
          "name": "stderr"
        }
      ]
    },
    {
      "cell_type": "code",
      "metadata": {
        "id": "KBHEUbPHKG2v"
      },
      "source": [
        ""
      ],
      "execution_count": null,
      "outputs": []
    },
    {
      "cell_type": "code",
      "metadata": {
        "id": "rvubmo0_xPL-",
        "colab": {
          "base_uri": "https://localhost:8080/"
        },
        "outputId": "c5be7567-9556-4959-8ecc-38e49828722e"
      },
      "source": [
        "\r\n",
        "# This will prompt for authorization.\r\n",
        "drive.mount('/content/drive')\r\n"
      ],
      "execution_count": null,
      "outputs": [
        {
          "output_type": "stream",
          "text": [
            "Mounted at /content/drive\n"
          ],
          "name": "stdout"
        }
      ]
    },
    {
      "cell_type": "code",
      "metadata": {
        "id": "7nImZvQ13lv9",
        "colab": {
          "base_uri": "https://localhost:8080/"
        },
        "outputId": "1020251e-c3f1-422e-c25a-cbb15307cedd"
      },
      "source": [
        "#loading the dataset\r\n",
        "!ls \"/content/drive/MyDrive/Colab Notebooks/P42- Health Insurance/dataset/\"\r\n",
        "\r\n",
        "rawdata = pd.read_csv(\"/content/drive/MyDrive/Colab Notebooks/P42- Health Insurance/dataset/Insurance Dataset.csv\")\r\n"
      ],
      "execution_count": null,
      "outputs": [
        {
          "output_type": "stream",
          "text": [
            "'Insurance Dataset.csv'  'Insurance Dataset.csv.hdf5'\n"
          ],
          "name": "stdout"
        }
      ]
    },
    {
      "cell_type": "code",
      "metadata": {
        "id": "6fZ_2tyZ505e"
      },
      "source": [
        "#setting the output screen to display all columns and viewing the records\r\n",
        "pd.set_option('display.max_columns', None) "
      ],
      "execution_count": null,
      "outputs": []
    },
    {
      "cell_type": "code",
      "metadata": {
        "id": "BdaPZkvf7L9U"
      },
      "source": [
        "rawdata.head()"
      ],
      "execution_count": null,
      "outputs": []
    },
    {
      "cell_type": "code",
      "metadata": {
        "id": "_PNc_Xn0FmsE"
      },
      "source": [
        "rawdata.tail()"
      ],
      "execution_count": null,
      "outputs": []
    },
    {
      "cell_type": "code",
      "metadata": {
        "id": "JZd3mytvJSpz"
      },
      "source": [
        "# Display the data types of columns\r\n",
        "rawdata.info()"
      ],
      "execution_count": null,
      "outputs": []
    },
    {
      "cell_type": "code",
      "metadata": {
        "id": "g20H9SCcJ0Mo"
      },
      "source": [
        "# Display basic statistics \r\n",
        "rawdata.describe()\r\n"
      ],
      "execution_count": null,
      "outputs": []
    },
    {
      "cell_type": "code",
      "metadata": {
        "id": "MIxEOPBUyYJI"
      },
      "source": [
        "rawdata.describe(include=np.object)"
      ],
      "execution_count": null,
      "outputs": []
    },
    {
      "cell_type": "code",
      "metadata": {
        "id": "zn6GnHArys9l"
      },
      "source": [
        "#checking the count value for each column\r\n",
        "for column in rawdata.columns:\r\n",
        "     print(\"\\n\" + column)\r\n",
        "     print(rawdata[column].value_counts())\r\n"
      ],
      "execution_count": null,
      "outputs": []
    },
    {
      "cell_type": "code",
      "metadata": {
        "id": "EAvCewp5LanB"
      },
      "source": [
        "#rename the column name\r\n",
        "insurance_data = rawdata\r\n",
        "insurance_data =  insurance_data.rename(columns = {'Emergency dept_yes/No': 'Emergency_dept','Home or self care,':'Home_or_self_care',\r\n",
        "                                               'Mortality risk':'Mortality_risk','Hospital County':'Hospital_County','Hospital Id':'Hospital_Id'})\r\n"
      ],
      "execution_count": null,
      "outputs": []
    },
    {
      "cell_type": "code",
      "metadata": {
        "colab": {
          "base_uri": "https://localhost:8080/"
        },
        "id": "7DMqQ_D6nqgm",
        "outputId": "cc0e2606-8b8d-47c7-ffc4-c60a2f6dff0a"
      },
      "source": [
        "# View shape of data\r\n",
        "insurance_data.shape"
      ],
      "execution_count": null,
      "outputs": [
        {
          "output_type": "execute_result",
          "data": {
            "text/plain": [
              "(1048575, 24)"
            ]
          },
          "metadata": {
            "tags": []
          },
          "execution_count": 86
        }
      ]
    },
    {
      "cell_type": "code",
      "metadata": {
        "id": "MfEtZWqCxnU0",
        "colab": {
          "base_uri": "https://localhost:8080/",
          "height": 233
        },
        "outputId": "dc5283bc-4e03-43ff-91d5-2161c7a98f0a"
      },
      "source": [
        "# cross table for checking the impact on output variable\r\n",
        "\r\n",
        "pd.crosstab(insurance_data.Emergency_dept,insurance_data.Result)\r\n",
        "pd.crosstab(insurance_data.Age,insurance_data.Result)\r\n",
        "pd.crosstab(insurance_data.Area_Service,insurance_data.Result)\r\n",
        "pd.crosstab(insurance_data.Gender,insurance_data.Result)\r\n",
        "pd.crosstab(insurance_data.Cultural_group,insurance_data.Result)\r\n",
        "pd.crosstab(insurance_data.ethnicity,insurance_data.Result)\r\n",
        "pd.crosstab(insurance_data.Admission_type,insurance_data.Result)\r\n",
        "pd.crosstab(insurance_data.Home_or_self_care,insurance_data.Result)\r\n",
        "pd.crosstab(insurance_data.ccs_diagnosis_code,insurance_data.Result)\r\n",
        "pd.crosstab(insurance_data.ccs_procedure_code,insurance_data.Result)\r\n",
        "pd.crosstab(insurance_data.apr_drg_description,insurance_data.Result)\r\n",
        "pd.crosstab(insurance_data.Code_illness,insurance_data.Result)\r\n",
        "pd.crosstab(insurance_data.Abortion,insurance_data.Result)\r\n",
        "pd.crosstab(insurance_data.Mortality_risk,insurance_data.Result)\r\n",
        "pd.crosstab(insurance_data.Surg_Description,insurance_data.Result)\r\n",
        "pd.crosstab(insurance_data.Weight_baby,insurance_data.Result)\r\n",
        "pd.crosstab(insurance_data.Payment_Typology,insurance_data.Result)\r\n"
      ],
      "execution_count": null,
      "outputs": [
        {
          "output_type": "execute_result",
          "data": {
            "text/html": [
              "<div>\n",
              "<style scoped>\n",
              "    .dataframe tbody tr th:only-of-type {\n",
              "        vertical-align: middle;\n",
              "    }\n",
              "\n",
              "    .dataframe tbody tr th {\n",
              "        vertical-align: top;\n",
              "    }\n",
              "\n",
              "    .dataframe thead th {\n",
              "        text-align: right;\n",
              "    }\n",
              "</style>\n",
              "<table border=\"1\" class=\"dataframe\">\n",
              "  <thead>\n",
              "    <tr style=\"text-align: right;\">\n",
              "      <th>Result</th>\n",
              "      <th>0</th>\n",
              "      <th>1</th>\n",
              "    </tr>\n",
              "    <tr>\n",
              "      <th>Payment_Typology</th>\n",
              "      <th></th>\n",
              "      <th></th>\n",
              "    </tr>\n",
              "  </thead>\n",
              "  <tbody>\n",
              "    <tr>\n",
              "      <th>1</th>\n",
              "      <td>86328</td>\n",
              "      <td>258115</td>\n",
              "    </tr>\n",
              "    <tr>\n",
              "      <th>2</th>\n",
              "      <td>107474</td>\n",
              "      <td>323217</td>\n",
              "    </tr>\n",
              "    <tr>\n",
              "      <th>3</th>\n",
              "      <td>67466</td>\n",
              "      <td>202405</td>\n",
              "    </tr>\n",
              "    <tr>\n",
              "      <th>4</th>\n",
              "      <td>879</td>\n",
              "      <td>2625</td>\n",
              "    </tr>\n",
              "    <tr>\n",
              "      <th>5</th>\n",
              "      <td>21</td>\n",
              "      <td>45</td>\n",
              "    </tr>\n",
              "  </tbody>\n",
              "</table>\n",
              "</div>"
            ],
            "text/plain": [
              "Result                 0       1\n",
              "Payment_Typology                \n",
              "1                  86328  258115\n",
              "2                 107474  323217\n",
              "3                  67466  202405\n",
              "4                    879    2625\n",
              "5                     21      45"
            ]
          },
          "metadata": {
            "tags": []
          },
          "execution_count": 9
        }
      ]
    },
    {
      "cell_type": "code",
      "metadata": {
        "id": "tM1KBUsdU2YR"
      },
      "source": [
        "#taking care of missing data\r\n",
        "insurance_data.isnull().sum()"
      ],
      "execution_count": null,
      "outputs": []
    },
    {
      "cell_type": "code",
      "metadata": {
        "id": "KKquA_sKyLbf"
      },
      "source": [
        "#drop nan values in column\r\n",
        "insurance_data = insurance_data.dropna(subset=['Hospital_Id','Mortality_risk','Area_Service','Hospital_County'],how = 'any')\r\n"
      ],
      "execution_count": null,
      "outputs": []
    },
    {
      "cell_type": "code",
      "metadata": {
        "id": "MkiobDLZMorH",
        "colab": {
          "base_uri": "https://localhost:8080/"
        },
        "outputId": "7815ea55-3a0b-4828-9097-35fc1c19a57b"
      },
      "source": [
        "#View the variabes \r\n",
        "insurance_data.isnull().sum()"
      ],
      "execution_count": null,
      "outputs": [
        {
          "output_type": "execute_result",
          "data": {
            "text/plain": [
              "Area_Service                             0\n",
              "Hospital_County                          0\n",
              "Hospital_Id                              0\n",
              "Age                                      0\n",
              "Gender                                   0\n",
              "Cultural_group                           0\n",
              "ethnicity                                0\n",
              "Days_spend_hsptl                         0\n",
              "Admission_type                           0\n",
              "Home_or_self_care                        0\n",
              "ccs_diagnosis_code                       0\n",
              "ccs_procedure_code                       0\n",
              "apr_drg_description                      0\n",
              "Code_illness                             0\n",
              "Mortality_risk                           0\n",
              "Surg_Description                         0\n",
              "Weight_baby                              0\n",
              "Abortion                                 0\n",
              "Emergency_dept                           0\n",
              "Tot_charg                                0\n",
              "Tot_cost                                 0\n",
              "ratio_of_total_costs_to_total_charges    0\n",
              "Result                                   0\n",
              "Payment_Typology                         0\n",
              "dtype: int64"
            ]
          },
          "metadata": {
            "tags": []
          },
          "execution_count": 9
        }
      ]
    },
    {
      "cell_type": "code",
      "metadata": {
        "id": "ZtxBFRO9UTqm"
      },
      "source": [
        "#removes duplicates\r\n",
        "insurance_data.drop_duplicates(keep='first',inplace=True)"
      ],
      "execution_count": null,
      "outputs": []
    },
    {
      "cell_type": "code",
      "metadata": {
        "id": "eqGdTZvLyBZx",
        "colab": {
          "base_uri": "https://localhost:8080/"
        },
        "outputId": "6132942c-af9f-4903-e33e-7fe97f0f2a90"
      },
      "source": [
        "insurance_data.duplicated()"
      ],
      "execution_count": null,
      "outputs": [
        {
          "output_type": "execute_result",
          "data": {
            "text/plain": [
              "0          False\n",
              "1          False\n",
              "2          False\n",
              "3          False\n",
              "4          False\n",
              "           ...  \n",
              "1048570    False\n",
              "1048571    False\n",
              "1048572    False\n",
              "1048573    False\n",
              "1048574    False\n",
              "Length: 1041265, dtype: bool"
            ]
          },
          "metadata": {
            "tags": []
          },
          "execution_count": 64
        }
      ]
    },
    {
      "cell_type": "code",
      "metadata": {
        "id": "BiyTeHfFmhGh"
      },
      "source": [
        "# checking datatypes\r\n",
        "insurance_data.dtypes"
      ],
      "execution_count": null,
      "outputs": []
    },
    {
      "cell_type": "code",
      "metadata": {
        "id": "VYpR9KHHjbgX"
      },
      "source": [
        " #Encoding the categorical variables using label encoder\r\n",
        " \r\n",
        "def MultiLabelEncoder(columnlist,dataframe):\r\n",
        "    for i in columnlist:\r\n",
        "\r\n",
        "        labelencoder_X = LabelEncoder()\r\n",
        "        dataframe[i] = labelencoder_X.fit_transform(dataframe[i])\r\n",
        "\r\n",
        "\r\n",
        "columnlist = ['Area_Service','Hospital_County','Age','Gender','Days_spend_hsptl','Admission_type','Home_or_self_care','Surg_Description',\r\n",
        "              'Emergency_dept','Cultural_group','ethnicity','apr_drg_description','Abortion']\r\n",
        "MultiLabelEncoder(columnlist,insurance_data)"
      ],
      "execution_count": null,
      "outputs": []
    },
    {
      "cell_type": "code",
      "metadata": {
        "id": "l7ZUUq9yn_xj",
        "colab": {
          "base_uri": "https://localhost:8080/",
          "height": 222
        },
        "outputId": "de7b5f78-2133-441d-d102-488aeb144797"
      },
      "source": [
        "# check first few records for labeled data\r\n",
        "insurance_data.head()"
      ],
      "execution_count": null,
      "outputs": [
        {
          "output_type": "execute_result",
          "data": {
            "text/html": [
              "<div>\n",
              "<style scoped>\n",
              "    .dataframe tbody tr th:only-of-type {\n",
              "        vertical-align: middle;\n",
              "    }\n",
              "\n",
              "    .dataframe tbody tr th {\n",
              "        vertical-align: top;\n",
              "    }\n",
              "\n",
              "    .dataframe thead th {\n",
              "        text-align: right;\n",
              "    }\n",
              "</style>\n",
              "<table border=\"1\" class=\"dataframe\">\n",
              "  <thead>\n",
              "    <tr style=\"text-align: right;\">\n",
              "      <th></th>\n",
              "      <th>Area_Service</th>\n",
              "      <th>Hospital_County</th>\n",
              "      <th>Hospital_Id</th>\n",
              "      <th>Age</th>\n",
              "      <th>Gender</th>\n",
              "      <th>Cultural_group</th>\n",
              "      <th>ethnicity</th>\n",
              "      <th>Days_spend_hsptl</th>\n",
              "      <th>Admission_type</th>\n",
              "      <th>Home_or_self_care</th>\n",
              "      <th>ccs_diagnosis_code</th>\n",
              "      <th>ccs_procedure_code</th>\n",
              "      <th>apr_drg_description</th>\n",
              "      <th>Code_illness</th>\n",
              "      <th>Mortality_risk</th>\n",
              "      <th>Surg_Description</th>\n",
              "      <th>Weight_baby</th>\n",
              "      <th>Abortion</th>\n",
              "      <th>Emergency_dept</th>\n",
              "      <th>Tot_charg</th>\n",
              "      <th>Tot_cost</th>\n",
              "      <th>ratio_of_total_costs_to_total_charges</th>\n",
              "      <th>Result</th>\n",
              "      <th>Payment_Typology</th>\n",
              "    </tr>\n",
              "  </thead>\n",
              "  <tbody>\n",
              "    <tr>\n",
              "      <th>0</th>\n",
              "      <td>6</td>\n",
              "      <td>1</td>\n",
              "      <td>37.0</td>\n",
              "      <td>2</td>\n",
              "      <td>0</td>\n",
              "      <td>3</td>\n",
              "      <td>0</td>\n",
              "      <td>54</td>\n",
              "      <td>0</td>\n",
              "      <td>7</td>\n",
              "      <td>122</td>\n",
              "      <td>0</td>\n",
              "      <td>237</td>\n",
              "      <td>1</td>\n",
              "      <td>1.0</td>\n",
              "      <td>0</td>\n",
              "      <td>0</td>\n",
              "      <td>0</td>\n",
              "      <td>1</td>\n",
              "      <td>5511.95</td>\n",
              "      <td>5582.49</td>\n",
              "      <td>1.012798</td>\n",
              "      <td>1</td>\n",
              "      <td>1</td>\n",
              "    </tr>\n",
              "    <tr>\n",
              "      <th>1</th>\n",
              "      <td>6</td>\n",
              "      <td>1</td>\n",
              "      <td>37.0</td>\n",
              "      <td>4</td>\n",
              "      <td>0</td>\n",
              "      <td>3</td>\n",
              "      <td>0</td>\n",
              "      <td>54</td>\n",
              "      <td>5</td>\n",
              "      <td>17</td>\n",
              "      <td>197</td>\n",
              "      <td>0</td>\n",
              "      <td>38</td>\n",
              "      <td>3</td>\n",
              "      <td>2.0</td>\n",
              "      <td>0</td>\n",
              "      <td>0</td>\n",
              "      <td>0</td>\n",
              "      <td>1</td>\n",
              "      <td>4783.20</td>\n",
              "      <td>5162.82</td>\n",
              "      <td>1.079365</td>\n",
              "      <td>1</td>\n",
              "      <td>1</td>\n",
              "    </tr>\n",
              "    <tr>\n",
              "      <th>2</th>\n",
              "      <td>6</td>\n",
              "      <td>1</td>\n",
              "      <td>37.0</td>\n",
              "      <td>2</td>\n",
              "      <td>0</td>\n",
              "      <td>3</td>\n",
              "      <td>0</td>\n",
              "      <td>43</td>\n",
              "      <td>5</td>\n",
              "      <td>7</td>\n",
              "      <td>122</td>\n",
              "      <td>0</td>\n",
              "      <td>237</td>\n",
              "      <td>1</td>\n",
              "      <td>1.0</td>\n",
              "      <td>0</td>\n",
              "      <td>0</td>\n",
              "      <td>0</td>\n",
              "      <td>1</td>\n",
              "      <td>3829.15</td>\n",
              "      <td>4056.52</td>\n",
              "      <td>1.059379</td>\n",
              "      <td>1</td>\n",
              "      <td>1</td>\n",
              "    </tr>\n",
              "    <tr>\n",
              "      <th>3</th>\n",
              "      <td>6</td>\n",
              "      <td>1</td>\n",
              "      <td>37.0</td>\n",
              "      <td>0</td>\n",
              "      <td>0</td>\n",
              "      <td>3</td>\n",
              "      <td>0</td>\n",
              "      <td>0</td>\n",
              "      <td>5</td>\n",
              "      <td>7</td>\n",
              "      <td>122</td>\n",
              "      <td>0</td>\n",
              "      <td>237</td>\n",
              "      <td>1</td>\n",
              "      <td>1.0</td>\n",
              "      <td>0</td>\n",
              "      <td>0</td>\n",
              "      <td>0</td>\n",
              "      <td>1</td>\n",
              "      <td>1108.20</td>\n",
              "      <td>1644.75</td>\n",
              "      <td>1.484167</td>\n",
              "      <td>0</td>\n",
              "      <td>1</td>\n",
              "    </tr>\n",
              "    <tr>\n",
              "      <th>4</th>\n",
              "      <td>6</td>\n",
              "      <td>1</td>\n",
              "      <td>37.0</td>\n",
              "      <td>4</td>\n",
              "      <td>0</td>\n",
              "      <td>3</td>\n",
              "      <td>0</td>\n",
              "      <td>43</td>\n",
              "      <td>0</td>\n",
              "      <td>7</td>\n",
              "      <td>122</td>\n",
              "      <td>0</td>\n",
              "      <td>237</td>\n",
              "      <td>2</td>\n",
              "      <td>3.0</td>\n",
              "      <td>0</td>\n",
              "      <td>0</td>\n",
              "      <td>0</td>\n",
              "      <td>1</td>\n",
              "      <td>3418.18</td>\n",
              "      <td>3370.87</td>\n",
              "      <td>0.986161</td>\n",
              "      <td>1</td>\n",
              "      <td>1</td>\n",
              "    </tr>\n",
              "  </tbody>\n",
              "</table>\n",
              "</div>"
            ],
            "text/plain": [
              "   Area_Service  Hospital_County  ...  Result  Payment_Typology\n",
              "0             6                1  ...       1                 1\n",
              "1             6                1  ...       1                 1\n",
              "2             6                1  ...       1                 1\n",
              "3             6                1  ...       0                 1\n",
              "4             6                1  ...       1                 1\n",
              "\n",
              "[5 rows x 24 columns]"
            ]
          },
          "metadata": {
            "tags": []
          },
          "execution_count": 11
        }
      ]
    },
    {
      "cell_type": "code",
      "metadata": {
        "id": "S-vlXewlBXJL",
        "colab": {
          "base_uri": "https://localhost:8080/"
        },
        "outputId": "bfcb8465-614f-4fee-9e1a-0c15b26fd449"
      },
      "source": [
        "# View datatypes labeled data\r\n",
        "insurance_data.dtypes"
      ],
      "execution_count": null,
      "outputs": [
        {
          "output_type": "execute_result",
          "data": {
            "text/plain": [
              "Area_Service                               int64\n",
              "Hospital_County                            int64\n",
              "Hospital_Id                              float64\n",
              "Age                                        int64\n",
              "Gender                                     int64\n",
              "Cultural_group                             int64\n",
              "ethnicity                                  int64\n",
              "Days_spend_hsptl                           int64\n",
              "Admission_type                             int64\n",
              "Home_or_self_care                          int64\n",
              "ccs_diagnosis_code                         int64\n",
              "ccs_procedure_code                         int64\n",
              "apr_drg_description                        int64\n",
              "Code_illness                               int64\n",
              "Mortality_risk                           float64\n",
              "Surg_Description                           int64\n",
              "Weight_baby                                int64\n",
              "Abortion                                   int64\n",
              "Emergency_dept                             int64\n",
              "Tot_charg                                float64\n",
              "Tot_cost                                 float64\n",
              "ratio_of_total_costs_to_total_charges    float64\n",
              "Result                                     int64\n",
              "Payment_Typology                           int64\n",
              "dtype: object"
            ]
          },
          "metadata": {
            "tags": []
          },
          "execution_count": 67
        }
      ]
    },
    {
      "cell_type": "code",
      "metadata": {
        "id": "_C6hIKhh0Upn"
      },
      "source": [
        "## \"Feature Engineering\"##\r\n",
        "# splitting data for feature Engineering\r\n",
        "X = insurance_data.loc[:, insurance_data.columns != 'Result']\r\n",
        "Y = insurance_data.loc[: , 'Result'].values"
      ],
      "execution_count": null,
      "outputs": []
    },
    {
      "cell_type": "code",
      "metadata": {
        "id": "EThzcnm63fry"
      },
      "source": [
        "print(X)"
      ],
      "execution_count": null,
      "outputs": []
    },
    {
      "cell_type": "code",
      "metadata": {
        "colab": {
          "base_uri": "https://localhost:8080/"
        },
        "id": "3zwu8jfz3plC",
        "outputId": "61ad8e57-149c-4724-ada0-8904a132ff6d"
      },
      "source": [
        "print(Y)"
      ],
      "execution_count": null,
      "outputs": [
        {
          "output_type": "stream",
          "text": [
            "[1 1 1 ... 0 1 1]\n"
          ],
          "name": "stdout"
        }
      ]
    },
    {
      "cell_type": "code",
      "metadata": {
        "colab": {
          "base_uri": "https://localhost:8080/"
        },
        "id": "df5SB9HYxkAT",
        "outputId": "ffc0b1d8-fcc3-4451-a2df-7102d8d23614"
      },
      "source": [
        "# Using extra tree classifier\r\n",
        "from sklearn import metrics\r\n",
        "from sklearn.ensemble import ExtraTreesClassifier\r\n",
        "model = ExtraTreesClassifier(n_estimators=10)\r\n",
        "model.fit(X, Y)\r\n",
        "print(model.feature_importances_)\r\n"
      ],
      "execution_count": null,
      "outputs": [
        {
          "output_type": "stream",
          "text": [
            "[0.01814463 0.02790761 0.04788191 0.03448476 0.0143944  0.01136035\n",
            " 0.00636658 0.06961519 0.01075343 0.03819189 0.07673763 0.05228042\n",
            " 0.06677969 0.0310636  0.01706664 0.00256667 0.01752041 0.\n",
            " 0.00407825 0.14113652 0.14154989 0.13893725 0.03118229]\n"
          ],
          "name": "stdout"
        }
      ]
    },
    {
      "cell_type": "code",
      "metadata": {
        "colab": {
          "base_uri": "https://localhost:8080/",
          "height": 664
        },
        "id": "Id5DkoHByrcv",
        "outputId": "19500236-66de-4c99-a41e-83fd404cd3d6"
      },
      "source": [
        "# Decision Tree to find feature importance in bar graph\r\n",
        "\r\n",
        "from sklearn.datasets import make_classification\r\n",
        "from sklearn.tree import DecisionTreeClassifier\r\n",
        "from matplotlib import pyplot\r\n",
        "# define the model\r\n",
        "model = DecisionTreeClassifier()\r\n",
        "# fit the model\r\n",
        "model.fit(X, Y)\r\n",
        "# get importance\r\n",
        "importance = model.feature_importances_\r\n",
        "# summarize feature importance\r\n",
        "for i,v in enumerate(importance):\r\n",
        "\tprint('Feature: %1d, Score: %.5f' % (i,v))\r\n",
        "# plot feature importance\r\n",
        "pyplot.bar([x for x in range(len(importance))], importance)\r\n",
        "pyplot.show()"
      ],
      "execution_count": null,
      "outputs": [
        {
          "output_type": "stream",
          "text": [
            "Feature: 0, Score: 0.01234\n",
            "Feature: 1, Score: 0.01535\n",
            "Feature: 2, Score: 0.03154\n",
            "Feature: 3, Score: 0.03104\n",
            "Feature: 4, Score: 0.01707\n",
            "Feature: 5, Score: 0.01836\n",
            "Feature: 6, Score: 0.01028\n",
            "Feature: 7, Score: 0.04497\n",
            "Feature: 8, Score: 0.01219\n",
            "Feature: 9, Score: 0.03023\n",
            "Feature: 10, Score: 0.06533\n",
            "Feature: 11, Score: 0.04053\n",
            "Feature: 12, Score: 0.05808\n",
            "Feature: 13, Score: 0.02786\n",
            "Feature: 14, Score: 0.02059\n",
            "Feature: 15, Score: 0.00325\n",
            "Feature: 16, Score: 0.01299\n",
            "Feature: 17, Score: 0.00000\n",
            "Feature: 18, Score: 0.00713\n",
            "Feature: 19, Score: 0.16975\n",
            "Feature: 20, Score: 0.17111\n",
            "Feature: 21, Score: 0.18061\n",
            "Feature: 22, Score: 0.01938\n"
          ],
          "name": "stdout"
        },
        {
          "output_type": "display_data",
          "data": {
            "image/png": "[encoded data removed]",
            "text/plain": [
              "<Figure size 432x288 with 1 Axes>"
            ]
          },
          "metadata": {
            "tags": [],
            "needs_background": "light"
          }
        }
      ]
    },
    {
      "cell_type": "code",
      "metadata": {
        "colab": {
          "base_uri": "https://localhost:8080/"
        },
        "id": "7EZzU45A6Br_",
        "outputId": "4e22640e-f621-4274-e37b-1e5f1e4f0a24"
      },
      "source": [
        "# checking for features columns\r\n",
        "X.columns"
      ],
      "execution_count": null,
      "outputs": [
        {
          "output_type": "execute_result",
          "data": {
            "text/plain": [
              "Index(['Area_Service', 'Hospital_County', 'Hospital_Id', 'Age', 'Gender',\n",
              "       'Cultural_group', 'ethnicity', 'Days_spend_hsptl', 'Admission_type',\n",
              "       'Home_or_self_care', 'ccs_diagnosis_code', 'ccs_procedure_code',\n",
              "       'apr_drg_description', 'Code_illness', 'Mortality_risk',\n",
              "       'Surg_Description', 'Weight_baby', 'Abortion', 'Emergency_dept',\n",
              "       'Tot_charg', 'Tot_cost', 'ratio_of_total_costs_to_total_charges',\n",
              "       'Payment_Typology'],\n",
              "      dtype='object')"
            ]
          },
          "metadata": {
            "tags": []
          },
          "execution_count": 29
        }
      ]
    },
    {
      "cell_type": "code",
      "metadata": {
        "id": "4htgUZQlFUH8"
      },
      "source": [
        "#drop insignificant fields\r\n",
        "insurance_data = insurance_data.drop(columns=['Area_Service','Hospital_County','Gender','Cultural_group','ethnicity','Admission_type',\r\n",
        "                                        'Surg_Description','Weight_baby','Abortion','Emergency_dept','Payment_Typology'])"
      ],
      "execution_count": null,
      "outputs": []
    },
    {
      "cell_type": "code",
      "metadata": {
        "id": "PgIR5geqGhsG",
        "colab": {
          "base_uri": "https://localhost:8080/",
          "height": 222
        },
        "outputId": "d564a59f-8c05-487f-922d-8eb713aad41b"
      },
      "source": [
        "# View data after dropping features\r\n",
        "insurance_data.head()"
      ],
      "execution_count": null,
      "outputs": [
        {
          "output_type": "execute_result",
          "data": {
            "text/html": [
              "<div>\n",
              "<style scoped>\n",
              "    .dataframe tbody tr th:only-of-type {\n",
              "        vertical-align: middle;\n",
              "    }\n",
              "\n",
              "    .dataframe tbody tr th {\n",
              "        vertical-align: top;\n",
              "    }\n",
              "\n",
              "    .dataframe thead th {\n",
              "        text-align: right;\n",
              "    }\n",
              "</style>\n",
              "<table border=\"1\" class=\"dataframe\">\n",
              "  <thead>\n",
              "    <tr style=\"text-align: right;\">\n",
              "      <th></th>\n",
              "      <th>Hospital_Id</th>\n",
              "      <th>Age</th>\n",
              "      <th>Days_spend_hsptl</th>\n",
              "      <th>Home_or_self_care</th>\n",
              "      <th>ccs_diagnosis_code</th>\n",
              "      <th>ccs_procedure_code</th>\n",
              "      <th>apr_drg_description</th>\n",
              "      <th>Code_illness</th>\n",
              "      <th>Mortality_risk</th>\n",
              "      <th>Tot_charg</th>\n",
              "      <th>Tot_cost</th>\n",
              "      <th>ratio_of_total_costs_to_total_charges</th>\n",
              "      <th>Result</th>\n",
              "    </tr>\n",
              "  </thead>\n",
              "  <tbody>\n",
              "    <tr>\n",
              "      <th>0</th>\n",
              "      <td>37.0</td>\n",
              "      <td>2</td>\n",
              "      <td>54</td>\n",
              "      <td>7</td>\n",
              "      <td>122</td>\n",
              "      <td>0</td>\n",
              "      <td>237</td>\n",
              "      <td>1</td>\n",
              "      <td>1.0</td>\n",
              "      <td>5511.95</td>\n",
              "      <td>5582.49</td>\n",
              "      <td>1.012798</td>\n",
              "      <td>1</td>\n",
              "    </tr>\n",
              "    <tr>\n",
              "      <th>1</th>\n",
              "      <td>37.0</td>\n",
              "      <td>4</td>\n",
              "      <td>54</td>\n",
              "      <td>17</td>\n",
              "      <td>197</td>\n",
              "      <td>0</td>\n",
              "      <td>38</td>\n",
              "      <td>3</td>\n",
              "      <td>2.0</td>\n",
              "      <td>4783.20</td>\n",
              "      <td>5162.82</td>\n",
              "      <td>1.079365</td>\n",
              "      <td>1</td>\n",
              "    </tr>\n",
              "    <tr>\n",
              "      <th>2</th>\n",
              "      <td>37.0</td>\n",
              "      <td>2</td>\n",
              "      <td>43</td>\n",
              "      <td>7</td>\n",
              "      <td>122</td>\n",
              "      <td>0</td>\n",
              "      <td>237</td>\n",
              "      <td>1</td>\n",
              "      <td>1.0</td>\n",
              "      <td>3829.15</td>\n",
              "      <td>4056.52</td>\n",
              "      <td>1.059379</td>\n",
              "      <td>1</td>\n",
              "    </tr>\n",
              "    <tr>\n",
              "      <th>3</th>\n",
              "      <td>37.0</td>\n",
              "      <td>0</td>\n",
              "      <td>0</td>\n",
              "      <td>7</td>\n",
              "      <td>122</td>\n",
              "      <td>0</td>\n",
              "      <td>237</td>\n",
              "      <td>1</td>\n",
              "      <td>1.0</td>\n",
              "      <td>1108.20</td>\n",
              "      <td>1644.75</td>\n",
              "      <td>1.484167</td>\n",
              "      <td>0</td>\n",
              "    </tr>\n",
              "    <tr>\n",
              "      <th>4</th>\n",
              "      <td>37.0</td>\n",
              "      <td>4</td>\n",
              "      <td>43</td>\n",
              "      <td>7</td>\n",
              "      <td>122</td>\n",
              "      <td>0</td>\n",
              "      <td>237</td>\n",
              "      <td>2</td>\n",
              "      <td>3.0</td>\n",
              "      <td>3418.18</td>\n",
              "      <td>3370.87</td>\n",
              "      <td>0.986161</td>\n",
              "      <td>1</td>\n",
              "    </tr>\n",
              "  </tbody>\n",
              "</table>\n",
              "</div>"
            ],
            "text/plain": [
              "   Hospital_Id  Age  ...  ratio_of_total_costs_to_total_charges  Result\n",
              "0         37.0    2  ...                               1.012798       1\n",
              "1         37.0    4  ...                               1.079365       1\n",
              "2         37.0    2  ...                               1.059379       1\n",
              "3         37.0    0  ...                               1.484167       0\n",
              "4         37.0    4  ...                               0.986161       1\n",
              "\n",
              "[5 rows x 13 columns]"
            ]
          },
          "metadata": {
            "tags": []
          },
          "execution_count": 69
        }
      ]
    },
    {
      "cell_type": "code",
      "metadata": {
        "id": "v3_2rJR6kwHn"
      },
      "source": [
        ""
      ],
      "execution_count": null,
      "outputs": []
    },
    {
      "cell_type": "code",
      "metadata": {
        "id": "NveFDSj3Mnix"
      },
      "source": [
        "#Standardization\r\n",
        "scaler = StandardScaler()\r\n",
        "\r\n",
        "insurance_data.iloc[:,0:-1] = scaler.fit_transform(insurance_data.iloc[:,0:-1].to_numpy())\r\n"
      ],
      "execution_count": null,
      "outputs": []
    },
    {
      "cell_type": "code",
      "metadata": {
        "colab": {
          "base_uri": "https://localhost:8080/"
        },
        "id": "3b94xevNdM_g",
        "outputId": "d2db5292-37f6-46b4-9bcd-1d6924030606"
      },
      "source": [
        "# Checking data after standardization\r\n",
        "print(insurance_data)"
      ],
      "execution_count": null,
      "outputs": [
        {
          "output_type": "stream",
          "text": [
            "         Hospital_Id       Age  Days_spend_hsptl  Home_or_self_care  \\\n",
            "0          -0.917724 -0.340600          0.466709          -0.430925   \n",
            "1          -0.917724  1.116857          0.466709           2.201506   \n",
            "2          -0.917724 -0.340600          0.059286          -0.430925   \n",
            "3          -0.917724 -1.798056         -1.533370          -0.430925   \n",
            "4          -0.917724  1.116857          0.059286          -0.430925   \n",
            "...              ...       ...               ...                ...   \n",
            "1048570     0.768893  1.116857          1.281556           2.464749   \n",
            "1048571     0.768893 -1.798056         -0.348138          -0.430925   \n",
            "1048572     0.768893  0.388129         -0.607407           1.675019   \n",
            "1048573     0.768893 -0.340600         -0.348138          -0.430925   \n",
            "1048574     0.768893  0.388129         -0.348138          -0.430925   \n",
            "\n",
            "         ccs_diagnosis_code  ccs_procedure_code  apr_drg_description  \\\n",
            "0                 -0.464319           -1.112820             0.820863   \n",
            "1                 -0.010794           -1.112820            -1.219752   \n",
            "2                 -0.464319           -1.112820             0.820863   \n",
            "3                 -0.464319           -1.112820             0.820863   \n",
            "4                 -0.464319           -1.112820             0.820863   \n",
            "...                     ...                 ...                  ...   \n",
            "1048570           -0.561072           -0.780857            -1.322295   \n",
            "1048571           -1.153679            1.531437             0.718319   \n",
            "1048572           -0.288956           -0.105484            -0.594237   \n",
            "1048573           -0.337332           -0.128378            -0.491693   \n",
            "1048574           -0.561072           -1.112820            -1.322295   \n",
            "\n",
            "         Code_illness  Mortality_risk  Tot_charg  Tot_cost  \\\n",
            "0           -1.151044       -0.760023  -0.393376 -0.219237   \n",
            "1            1.035496        0.253464  -0.406646 -0.238055   \n",
            "2           -1.151044       -0.760023  -0.424018 -0.287662   \n",
            "3           -1.151044       -0.760023  -0.473563 -0.395808   \n",
            "4           -0.057774        1.266951  -0.431501 -0.318408   \n",
            "...               ...             ...        ...       ...   \n",
            "1048570     -0.057774        1.266951   0.774517  0.153583   \n",
            "1048571     -0.057774       -0.760023  -0.246331 -0.293858   \n",
            "1048572      2.128766        2.280438   1.411454  0.640097   \n",
            "1048573     -1.151044       -0.760023   0.007393 -0.166166   \n",
            "1048574     -1.151044       -0.760023  -0.041574 -0.246492   \n",
            "\n",
            "         ratio_of_total_costs_to_total_charges  Result  \n",
            "0                                     0.694698       1  \n",
            "1                                     0.777807       1  \n",
            "2                                     0.752855       1  \n",
            "3                                     1.283201       0  \n",
            "4                                     0.661442       1  \n",
            "...                                        ...     ...  \n",
            "1048570                              -0.320672       1  \n",
            "1048571                              -0.209732       1  \n",
            "1048572                              -0.274486       0  \n",
            "1048573                              -0.262837       1  \n",
            "1048574                              -0.319663       1  \n",
            "\n",
            "[1046077 rows x 13 columns]\n"
          ],
          "name": "stdout"
        }
      ]
    },
    {
      "cell_type": "code",
      "metadata": {
        "id": "fmDGflW_dW7s"
      },
      "source": [
        ""
      ],
      "execution_count": null,
      "outputs": []
    },
    {
      "cell_type": "code",
      "metadata": {
        "id": "vPHU9-2tBXl7"
      },
      "source": [
        "# Data visualization\r\n",
        "plt.rcParams['figure.figsize'] = (20,8)"
      ],
      "execution_count": null,
      "outputs": []
    },
    {
      "cell_type": "code",
      "metadata": {
        "id": "XgmmcBcEgjhn",
        "colab": {
          "base_uri": "https://localhost:8080/",
          "height": 485
        },
        "outputId": "aa1cfe09-3296-4fe6-f4e9-c9ec7fca6246"
      },
      "source": [
        "sns.histplot(insurance_data[\"Days_spend_hsptl\"],binwidth=0.15,kde = True)\r\n",
        "\r\n",
        "plt.show()"
      ],
      "execution_count": null,
      "outputs": [
        {
          "output_type": "display_data",
          "data": {
            "image/png": "[encoded data removed]",
            "text/plain": [
              "<Figure size 1440x576 with 1 Axes>"
            ]
          },
          "metadata": {
            "tags": [],
            "needs_background": "light"
          }
        }
      ]
    },
    {
      "cell_type": "code",
      "metadata": {
        "id": "_B6uTxp7gb6r",
        "colab": {
          "base_uri": "https://localhost:8080/",
          "height": 517
        },
        "outputId": "fed628b9-6eb7-4b58-b4b7-070f651f7f6a"
      },
      "source": [
        "sns.histplot(insurance_data[\"Age\"],kde = True,binwidth=0.15)\r\n",
        "plt.show()"
      ],
      "execution_count": null,
      "outputs": [
        {
          "output_type": "display_data",
          "data": {
            "image/png": "[encoded data removed]",
            "text/plain": [
              "<Figure size 1440x576 with 1 Axes>"
            ]
          },
          "metadata": {
            "tags": [],
            "needs_background": "light"
          }
        }
      ]
    },
    {
      "cell_type": "code",
      "metadata": {
        "id": "KpkJjgAzcGHa",
        "colab": {
          "base_uri": "https://localhost:8080/",
          "height": 485
        },
        "outputId": "cc4a0219-8d9b-4803-8b72-534cab3b1cf9"
      },
      "source": [
        "sns.histplot(insurance_data[\"ccs_diagnosis_code\"],kde = True,binwidth=0.15)\r\n",
        "plt.show()"
      ],
      "execution_count": null,
      "outputs": [
        {
          "output_type": "display_data",
          "data": {
            "image/png": "[encoded data removed]",
            "text/plain": [
              "<Figure size 1440x576 with 1 Axes>"
            ]
          },
          "metadata": {
            "tags": [],
            "needs_background": "light"
          }
        }
      ]
    },
    {
      "cell_type": "code",
      "metadata": {
        "id": "b4jWbxEQZ3KF",
        "colab": {
          "base_uri": "https://localhost:8080/",
          "height": 485
        },
        "outputId": "06a63b3f-8098-4292-d63e-659bc66405fa"
      },
      "source": [
        "sns.histplot(insurance_data[\"Code_illness\"],kde = True,binwidth=0.15)\r\n",
        "plt.show()"
      ],
      "execution_count": null,
      "outputs": [
        {
          "output_type": "display_data",
          "data": {
            "image/png": "[encoded data removed]",
            "text/plain": [
              "<Figure size 1440x576 with 1 Axes>"
            ]
          },
          "metadata": {
            "tags": [],
            "needs_background": "light"
          }
        }
      ]
    },
    {
      "cell_type": "code",
      "metadata": {
        "id": "3-rQ_KjJalXY",
        "colab": {
          "base_uri": "https://localhost:8080/",
          "height": 505
        },
        "outputId": "f0e51196-1bf6-4627-acd1-6082614357a4"
      },
      "source": [
        "sns.histplot(insurance_data[\"Tot_charg\"],kde = True,binwidth=1.5)\r\n",
        "plt.show()"
      ],
      "execution_count": null,
      "outputs": [
        {
          "output_type": "display_data",
          "data": {
            "image/png": "[encoded data removed]",
            "text/plain": [
              "<Figure size 1440x576 with 1 Axes>"
            ]
          },
          "metadata": {
            "tags": [],
            "needs_background": "light"
          }
        }
      ]
    },
    {
      "cell_type": "code",
      "metadata": {
        "id": "z5ynCJxlbrCe",
        "colab": {
          "base_uri": "https://localhost:8080/",
          "height": 503
        },
        "outputId": "da48a71c-f75c-428a-ff18-b43b84dd2756"
      },
      "source": [
        "sns.histplot(insurance_data[\"Tot_cost\"],kde = True,binwidth=1.6)\r\n",
        "plt.show()"
      ],
      "execution_count": null,
      "outputs": [
        {
          "output_type": "display_data",
          "data": {
            "image/png": "[encoded data removed]",
            "text/plain": [
              "<Figure size 1440x576 with 1 Axes>"
            ]
          },
          "metadata": {
            "tags": [],
            "needs_background": "light"
          }
        }
      ]
    },
    {
      "cell_type": "code",
      "metadata": {
        "id": "EyC5msZEbyZX",
        "colab": {
          "base_uri": "https://localhost:8080/",
          "height": 505
        },
        "outputId": "356da9ca-1182-4939-c7fa-b081064773fa"
      },
      "source": [
        "sns.histplot(insurance_data[\"ratio_of_total_costs_to_total_charges\"],kde = True,binwidth=2.5)\r\n",
        "plt.show()"
      ],
      "execution_count": null,
      "outputs": [
        {
          "output_type": "display_data",
          "data": {
            "image/png": "[encoded data removed]",
            "text/plain": [
              "<Figure size 1440x576 with 1 Axes>"
            ]
          },
          "metadata": {
            "tags": [],
            "needs_background": "light"
          }
        }
      ]
    },
    {
      "cell_type": "code",
      "metadata": {
        "id": "GSJyp87hoajt"
      },
      "source": [
        ""
      ],
      "execution_count": null,
      "outputs": []
    },
    {
      "cell_type": "code",
      "metadata": {
        "id": "8UBoWfKSohI7"
      },
      "source": [
        ""
      ],
      "execution_count": null,
      "outputs": []
    },
    {
      "cell_type": "code",
      "metadata": {
        "id": "iJqxZutPpRXg"
      },
      "source": [
        "\r\n"
      ],
      "execution_count": null,
      "outputs": []
    },
    {
      "cell_type": "code",
      "metadata": {
        "id": "x4VJhwGBVJRO"
      },
      "source": [
        "#Calculate correlation among all variables\r\n",
        "corr = insurance_data.corr()\r\n",
        "pd.set_option('display.max_columns', None) \r\n",
        "print(corr)"
      ],
      "execution_count": null,
      "outputs": []
    },
    {
      "cell_type": "code",
      "metadata": {
        "id": "5jAccIRcpIyO",
        "colab": {
          "base_uri": "https://localhost:8080/",
          "height": 662
        },
        "outputId": "a4de7786-6146-4aa5-e69d-42d56e7792ff"
      },
      "source": [
        "#Correlation visualization among all variables\r\n",
        "corr = insurance_data.corr()\r\n",
        "fig = plt.figure()\r\n",
        "ax = fig.add_subplot(111)\r\n",
        "cax = ax.matshow(corr,cmap='coolwarm', vmin=-1, vmax=1)\r\n",
        "fig.colorbar(cax)\r\n",
        "ticks = np.arange(0,len(insurance_data.columns),1)\r\n",
        "ax.set_xticks(ticks)\r\n",
        "plt.xticks(rotation = 90)\r\n",
        "ax.set_yticks(ticks)\r\n",
        "ax.set_xticklabels(insurance_data.columns)\r\n",
        "ax.set_yticklabels(insurance_data.columns)\r\n",
        "plt.show()"
      ],
      "execution_count": null,
      "outputs": [
        {
          "output_type": "display_data",
          "data": {
            "image/png": "[encoded data removed]",
            "text/plain": [
              "<Figure size 1440x576 with 2 Axes>"
            ]
          },
          "metadata": {
            "tags": [],
            "needs_background": "light"
          }
        }
      ]
    },
    {
      "cell_type": "code",
      "metadata": {
        "id": "qi-lFcPJwZbB",
        "colab": {
          "base_uri": "https://localhost:8080/",
          "height": 677
        },
        "outputId": "2dba7ecd-145a-42d0-80a2-449c33ff670b"
      },
      "source": [
        "#correlation matrix visualization\r\n",
        "corrmat = insurance_data.corr() \r\n",
        "  \r\n",
        "f, ax = plt.subplots(figsize =(9, 8)) \r\n",
        "\r\n",
        "ax = sns.heatmap(corrmat,\r\n",
        "                 annot=True,\r\n",
        "                 linewidths=0.5,\r\n",
        "                 fmt=\".2f\",\r\n",
        "                 cmap=\"YlGnBu\");\r\n",
        "bottom, top = ax.get_ylim()\r\n",
        "ax.set_ylim(bottom + 0.5, top - 0.5)"
      ],
      "execution_count": null,
      "outputs": [
        {
          "output_type": "execute_result",
          "data": {
            "text/plain": [
              "(13.5, -0.5)"
            ]
          },
          "metadata": {
            "tags": []
          },
          "execution_count": 16
        },
        {
          "output_type": "display_data",
          "data": {
            "image/png": "[encoded data removed]",
            "text/plain": [
              "<Figure size 648x576 with 2 Axes>"
            ]
          },
          "metadata": {
            "tags": [],
            "needs_background": "light"
          }
        }
      ]
    },
    {
      "cell_type": "code",
      "metadata": {
        "id": "IxHNvJueLLNF"
      },
      "source": [
        "#covariance calculation among the all features\r\n",
        "covMatrix = pd.DataFrame.cov(insurance_data)\r\n",
        "pd.set_option('display.max_columns', None) \r\n",
        "print(covMatrix)"
      ],
      "execution_count": null,
      "outputs": []
    },
    {
      "cell_type": "code",
      "metadata": {
        "id": "MhK9ZvkDVE-G"
      },
      "source": [
        "#chekcing for multicollinearity using variable inflation factor VIF\r\n",
        "\r\n",
        "\r\n",
        "def calc_vif(X):\r\n",
        "\r\n",
        "    # Calculating VIF\r\n",
        "    vif = pd.DataFrame()\r\n",
        "    vif[\"variables\"] = X.columns\r\n",
        "    vif[\"VIF\"] = [variance_inflation_factor(X.values, i) for i in range(X.shape[1])]\r\n",
        "\r\n",
        "    return(vif)\r\n"
      ],
      "execution_count": null,
      "outputs": []
    },
    {
      "cell_type": "code",
      "metadata": {
        "colab": {
          "base_uri": "https://localhost:8080/",
          "height": 417
        },
        "id": "duOOXzAlzj7m",
        "outputId": "cde7fb7c-18b2-4671-a9fd-2886267a1ba5"
      },
      "source": [
        "X = insurance_data.iloc[:,:-1]\r\n",
        "calc_vif(X)"
      ],
      "execution_count": null,
      "outputs": [
        {
          "output_type": "execute_result",
          "data": {
            "text/html": [
              "<div>\n",
              "<style scoped>\n",
              "    .dataframe tbody tr th:only-of-type {\n",
              "        vertical-align: middle;\n",
              "    }\n",
              "\n",
              "    .dataframe tbody tr th {\n",
              "        vertical-align: top;\n",
              "    }\n",
              "\n",
              "    .dataframe thead th {\n",
              "        text-align: right;\n",
              "    }\n",
              "</style>\n",
              "<table border=\"1\" class=\"dataframe\">\n",
              "  <thead>\n",
              "    <tr style=\"text-align: right;\">\n",
              "      <th></th>\n",
              "      <th>variables</th>\n",
              "      <th>VIF</th>\n",
              "    </tr>\n",
              "  </thead>\n",
              "  <tbody>\n",
              "    <tr>\n",
              "      <th>0</th>\n",
              "      <td>Hospital_Id</td>\n",
              "      <td>1.007365</td>\n",
              "    </tr>\n",
              "    <tr>\n",
              "      <th>1</th>\n",
              "      <td>Age</td>\n",
              "      <td>1.479463</td>\n",
              "    </tr>\n",
              "    <tr>\n",
              "      <th>2</th>\n",
              "      <td>Days_spend_hsptl</td>\n",
              "      <td>1.077660</td>\n",
              "    </tr>\n",
              "    <tr>\n",
              "      <th>3</th>\n",
              "      <td>Home_or_self_care</td>\n",
              "      <td>1.130509</td>\n",
              "    </tr>\n",
              "    <tr>\n",
              "      <th>4</th>\n",
              "      <td>ccs_diagnosis_code</td>\n",
              "      <td>1.137078</td>\n",
              "    </tr>\n",
              "    <tr>\n",
              "      <th>5</th>\n",
              "      <td>ccs_procedure_code</td>\n",
              "      <td>1.024024</td>\n",
              "    </tr>\n",
              "    <tr>\n",
              "      <th>6</th>\n",
              "      <td>apr_drg_description</td>\n",
              "      <td>1.039558</td>\n",
              "    </tr>\n",
              "    <tr>\n",
              "      <th>7</th>\n",
              "      <td>Code_illness</td>\n",
              "      <td>1.849593</td>\n",
              "    </tr>\n",
              "    <tr>\n",
              "      <th>8</th>\n",
              "      <td>Mortality_risk</td>\n",
              "      <td>1.949651</td>\n",
              "    </tr>\n",
              "    <tr>\n",
              "      <th>9</th>\n",
              "      <td>Tot_charg</td>\n",
              "      <td>3.082065</td>\n",
              "    </tr>\n",
              "    <tr>\n",
              "      <th>10</th>\n",
              "      <td>Tot_cost</td>\n",
              "      <td>3.725441</td>\n",
              "    </tr>\n",
              "    <tr>\n",
              "      <th>11</th>\n",
              "      <td>ratio_of_total_costs_to_total_charges</td>\n",
              "      <td>1.774817</td>\n",
              "    </tr>\n",
              "  </tbody>\n",
              "</table>\n",
              "</div>"
            ],
            "text/plain": [
              "                                variables       VIF\n",
              "0                             Hospital_Id  1.007365\n",
              "1                                     Age  1.479463\n",
              "2                        Days_spend_hsptl  1.077660\n",
              "3                       Home_or_self_care  1.130509\n",
              "4                      ccs_diagnosis_code  1.137078\n",
              "5                      ccs_procedure_code  1.024024\n",
              "6                     apr_drg_description  1.039558\n",
              "7                            Code_illness  1.849593\n",
              "8                          Mortality_risk  1.949651\n",
              "9                               Tot_charg  3.082065\n",
              "10                               Tot_cost  3.725441\n",
              "11  ratio_of_total_costs_to_total_charges  1.774817"
            ]
          },
          "metadata": {
            "tags": []
          },
          "execution_count": 53
        }
      ]
    },
    {
      "cell_type": "code",
      "metadata": {
        "id": "rn6oAq_01GWu"
      },
      "source": [
        "#VIF starts at 1 and has no upper limit\r\n",
        "#VIF = 1, no correlation between the independent variable and the other variables\r\n",
        "#VIF exceeding 5 or 10 indicates high multicollinearity between this independent variable and the others\r\n",
        "\r\n",
        "# so as per the observation for multicolliniarity We can see there is no multicollinearity"
      ],
      "execution_count": null,
      "outputs": []
    },
    {
      "cell_type": "code",
      "metadata": {
        "id": "Z7veosIKsiGC"
      },
      "source": [
        "# making copy of data for visualizaton purpose only\r\n",
        "ins_data = insurance_data.copy()\r\n",
        "ins_data = pd.DataFrame(data = np.random.random(size=(4,11)), columns = ['Hospital_Id','Age','Days_spend_hsptl','Home_or_self_care','ccs_diagnosis_code','ccs_procedure_code','Code_illness',\r\n",
        "                                                                            'apr_drg_description','Tot_charg','Tot_cost','ratio_of_total_costs_to_total_charges'])\r\n"
      ],
      "execution_count": null,
      "outputs": []
    },
    {
      "cell_type": "code",
      "metadata": {
        "id": "CinBUEx1sztq"
      },
      "source": [
        "#visualizing data using pairplot\r\n",
        "sns.pairplot(ins_data)"
      ],
      "execution_count": null,
      "outputs": []
    },
    {
      "cell_type": "code",
      "metadata": {
        "id": "MQR_doRysoW5"
      },
      "source": [
        "# visualizing data using boxplot\r\n",
        "sns.boxplot(x=\"variable\", y=\"value\", data=pd.melt(ins_data))  #found some outliers in home_self_care,ccs_procedure_code and in code_illness\r\n",
        "\r\n",
        "plt.show()"
      ],
      "execution_count": null,
      "outputs": []
    },
    {
      "cell_type": "code",
      "metadata": {
        "id": "DNEMyaFJjC0V"
      },
      "source": [
        "#Taking care of outliers using Z score method\r\n",
        "\r\n",
        "z = np.abs(stats.zscore(insurance_data))\r\n"
      ],
      "execution_count": null,
      "outputs": []
    },
    {
      "cell_type": "code",
      "metadata": {
        "colab": {
          "base_uri": "https://localhost:8080/"
        },
        "id": "kQWC_nUJkfFl",
        "outputId": "a2129f77-89c4-49df-cbd1-ae29f656300a"
      },
      "source": [
        "print(z)"
      ],
      "execution_count": null,
      "outputs": [
        {
          "output_type": "stream",
          "text": [
            "[[0.91918965 0.34954194 0.46444957 ... 0.22049087 0.69359683 0.57821931]\n",
            " [0.91918965 1.11434624 0.46444957 ... 0.23927351 0.77653185 0.57821931]\n",
            " [0.91918965 0.34954194 0.05759833 ... 0.28878677 0.75163169 0.57821931]\n",
            " ...\n",
            " [0.77126069 0.38240215 0.60815824 ... 0.63721472 0.2735644  1.72944761]\n",
            " [0.77126069 0.34954194 0.34925291 ... 0.16752022 0.26194014 0.57821931]\n",
            " [0.77126069 0.38240215 0.34925291 ... 0.24769474 0.31864753 0.57821931]]\n"
          ],
          "name": "stdout"
        }
      ]
    },
    {
      "cell_type": "code",
      "metadata": {
        "colab": {
          "base_uri": "https://localhost:8080/"
        },
        "id": "YxJiXQAVkq4E",
        "outputId": "065b517b-fcf4-42f0-c3e8-c4cebd290b28"
      },
      "source": [
        "# From above code it is difficult to say which data point is an outlier so we define a threshold to identify the outlier\r\n",
        "threshold = 3\r\n",
        "print(np.where(z > 3))"
      ],
      "execution_count": null,
      "outputs": [
        {
          "output_type": "stream",
          "text": [
            "(array([    705,     780,    1568, ..., 1041234, 1041236, 1041259]), array([11, 11, 11, ...,  9,  9,  9]))\n"
          ],
          "name": "stdout"
        }
      ]
    },
    {
      "cell_type": "code",
      "metadata": {
        "colab": {
          "base_uri": "https://localhost:8080/"
        },
        "id": "op6M2lsxk_8a",
        "outputId": "c664aaae-5d34-462a-d0f0-a47aa6023061"
      },
      "source": [
        "print(z[705][11])     # here we just crosscheck that 705 is row and 11 is column no. so it gives 3.22 value which is greater than 3\r\n",
        "                      #so 705th row has an outlier"
      ],
      "execution_count": null,
      "outputs": [
        {
          "output_type": "stream",
          "text": [
            "3.2246815956904102\n"
          ],
          "name": "stdout"
        }
      ]
    },
    {
      "cell_type": "code",
      "metadata": {
        "id": "o_bUUWg8yUvK"
      },
      "source": [
        "#using z score method we are removing outliers here\r\n",
        "insurance_data = insurance_data[(z < 3).all(axis=1)]"
      ],
      "execution_count": null,
      "outputs": []
    },
    {
      "cell_type": "code",
      "metadata": {
        "id": "G51x1bQ32gZb",
        "colab": {
          "base_uri": "https://localhost:8080/"
        },
        "outputId": "9abe8e28-e0ef-4384-9712-71692525d372"
      },
      "source": [
        "insurance_data.shape                     #previously in data there are 1048575 rows and now 1005575 remain after removing outliers"
      ],
      "execution_count": null,
      "outputs": [
        {
          "output_type": "execute_result",
          "data": {
            "text/plain": [
              "(1005575, 13)"
            ]
          },
          "metadata": {
            "tags": []
          },
          "execution_count": 14
        }
      ]
    },
    {
      "cell_type": "code",
      "metadata": {
        "colab": {
          "base_uri": "https://localhost:8080/"
        },
        "id": "FyFbyL8gy1Hu",
        "outputId": "15d15d60-952d-4a29-f307-b59550a970f2"
      },
      "source": [
        "#check for imbalance data\r\n",
        "insurance_data['Result'].value_counts()"
      ],
      "execution_count": null,
      "outputs": [
        {
          "output_type": "execute_result",
          "data": {
            "text/plain": [
              "1    753667\n",
              "0    251908\n",
              "Name: Result, dtype: int64"
            ]
          },
          "metadata": {
            "tags": []
          },
          "execution_count": 108
        }
      ]
    },
    {
      "cell_type": "code",
      "metadata": {
        "colab": {
          "base_uri": "https://localhost:8080/",
          "height": 539
        },
        "id": "O1AfcqiwzI9y",
        "outputId": "bb226e77-f32e-4578-9f23-ee201da59722"
      },
      "source": [
        "#0 -> fruad\r\n",
        "# 1 -> not fraud\r\n",
        "# visualize the target variable\r\n",
        "g = sns.countplot(insurance_data['Result'])\r\n",
        "g.set_xticklabels(['Fraud','Not Fraud'])\r\n",
        "plt.show()"
      ],
      "execution_count": null,
      "outputs": [
        {
          "output_type": "stream",
          "text": [
            "/usr/local/lib/python3.6/dist-packages/seaborn/_decorators.py:43: FutureWarning: Pass the following variable as a keyword arg: x. From version 0.12, the only valid positional argument will be `data`, and passing other arguments without an explicit keyword will result in an error or misinterpretation.\n",
            "  FutureWarning\n"
          ],
          "name": "stderr"
        },
        {
          "output_type": "display_data",
          "data": {
            "image/png": "[encoded data removed]",
            "text/plain": [
              "<Figure size 1440x576 with 1 Axes>"
            ]
          },
          "metadata": {
            "tags": [],
            "needs_background": "light"
          }
        }
      ]
    },
    {
      "cell_type": "code",
      "metadata": {
        "id": "nhkQnsDqnOac"
      },
      "source": [
        "#we separate data using train and test set\r\n",
        "#first we define input and output variables\r\n",
        "y = insurance_data.Result\r\n",
        "x = insurance_data.drop('Result',axis=1)"
      ],
      "execution_count": null,
      "outputs": []
    },
    {
      "cell_type": "code",
      "metadata": {
        "colab": {
          "base_uri": "https://localhost:8080/",
          "height": 222
        },
        "id": "FZNkghJv2R2H",
        "outputId": "b017ad2d-975d-4fed-8145-ee72a1d8f5bd"
      },
      "source": [
        "x.head()"
      ],
      "execution_count": null,
      "outputs": [
        {
          "output_type": "execute_result",
          "data": {
            "text/html": [
              "<div>\n",
              "<style scoped>\n",
              "    .dataframe tbody tr th:only-of-type {\n",
              "        vertical-align: middle;\n",
              "    }\n",
              "\n",
              "    .dataframe tbody tr th {\n",
              "        vertical-align: top;\n",
              "    }\n",
              "\n",
              "    .dataframe thead th {\n",
              "        text-align: right;\n",
              "    }\n",
              "</style>\n",
              "<table border=\"1\" class=\"dataframe\">\n",
              "  <thead>\n",
              "    <tr style=\"text-align: right;\">\n",
              "      <th></th>\n",
              "      <th>Hospital_Id</th>\n",
              "      <th>Age</th>\n",
              "      <th>Days_spend_hsptl</th>\n",
              "      <th>Home_or_self_care</th>\n",
              "      <th>ccs_diagnosis_code</th>\n",
              "      <th>ccs_procedure_code</th>\n",
              "      <th>apr_drg_description</th>\n",
              "      <th>Code_illness</th>\n",
              "      <th>Mortality_risk</th>\n",
              "      <th>Tot_charg</th>\n",
              "      <th>Tot_cost</th>\n",
              "      <th>ratio_of_total_costs_to_total_charges</th>\n",
              "    </tr>\n",
              "  </thead>\n",
              "  <tbody>\n",
              "    <tr>\n",
              "      <th>0</th>\n",
              "      <td>-0.91919</td>\n",
              "      <td>-0.349542</td>\n",
              "      <td>0.464450</td>\n",
              "      <td>-0.431916</td>\n",
              "      <td>-0.462745</td>\n",
              "      <td>-1.112121</td>\n",
              "      <td>0.819899</td>\n",
              "      <td>-1.156401</td>\n",
              "      <td>-0.762526</td>\n",
              "      <td>-0.394525</td>\n",
              "      <td>-0.220491</td>\n",
              "      <td>0.693597</td>\n",
              "    </tr>\n",
              "    <tr>\n",
              "      <th>1</th>\n",
              "      <td>-0.91919</td>\n",
              "      <td>1.114346</td>\n",
              "      <td>0.464450</td>\n",
              "      <td>2.196383</td>\n",
              "      <td>-0.009803</td>\n",
              "      <td>-1.112121</td>\n",
              "      <td>-1.217131</td>\n",
              "      <td>1.031419</td>\n",
              "      <td>0.250080</td>\n",
              "      <td>-0.407770</td>\n",
              "      <td>-0.239274</td>\n",
              "      <td>0.776532</td>\n",
              "    </tr>\n",
              "    <tr>\n",
              "      <th>2</th>\n",
              "      <td>-0.91919</td>\n",
              "      <td>-0.349542</td>\n",
              "      <td>0.057598</td>\n",
              "      <td>-0.431916</td>\n",
              "      <td>-0.462745</td>\n",
              "      <td>-1.112121</td>\n",
              "      <td>0.819899</td>\n",
              "      <td>-1.156401</td>\n",
              "      <td>-0.762526</td>\n",
              "      <td>-0.425109</td>\n",
              "      <td>-0.288787</td>\n",
              "      <td>0.751632</td>\n",
              "    </tr>\n",
              "    <tr>\n",
              "      <th>3</th>\n",
              "      <td>-0.91919</td>\n",
              "      <td>-1.813430</td>\n",
              "      <td>-1.532820</td>\n",
              "      <td>-0.431916</td>\n",
              "      <td>-0.462745</td>\n",
              "      <td>-1.112121</td>\n",
              "      <td>0.819899</td>\n",
              "      <td>-1.156401</td>\n",
              "      <td>-0.762526</td>\n",
              "      <td>-0.474563</td>\n",
              "      <td>-0.396727</td>\n",
              "      <td>1.280871</td>\n",
              "    </tr>\n",
              "    <tr>\n",
              "      <th>4</th>\n",
              "      <td>-0.91919</td>\n",
              "      <td>1.114346</td>\n",
              "      <td>0.057598</td>\n",
              "      <td>-0.431916</td>\n",
              "      <td>-0.462745</td>\n",
              "      <td>-1.112121</td>\n",
              "      <td>0.819899</td>\n",
              "      <td>-0.062491</td>\n",
              "      <td>1.262686</td>\n",
              "      <td>-0.432579</td>\n",
              "      <td>-0.319474</td>\n",
              "      <td>0.660410</td>\n",
              "    </tr>\n",
              "  </tbody>\n",
              "</table>\n",
              "</div>"
            ],
            "text/plain": [
              "   Hospital_Id       Age  ...  Tot_cost  ratio_of_total_costs_to_total_charges\n",
              "0     -0.91919 -0.349542  ... -0.220491                               0.693597\n",
              "1     -0.91919  1.114346  ... -0.239274                               0.776532\n",
              "2     -0.91919 -0.349542  ... -0.288787                               0.751632\n",
              "3     -0.91919 -1.813430  ... -0.396727                               1.280871\n",
              "4     -0.91919  1.114346  ... -0.319474                               0.660410\n",
              "\n",
              "[5 rows x 12 columns]"
            ]
          },
          "metadata": {
            "tags": []
          },
          "execution_count": 21
        }
      ]
    },
    {
      "cell_type": "code",
      "metadata": {
        "colab": {
          "base_uri": "https://localhost:8080/"
        },
        "id": "QbLPEYgp2VH2",
        "outputId": "b0cdc0e8-22dc-4568-b5c3-8ad04c70530c"
      },
      "source": [
        "y.head()"
      ],
      "execution_count": null,
      "outputs": [
        {
          "output_type": "execute_result",
          "data": {
            "text/plain": [
              "0    1\n",
              "1    1\n",
              "2    1\n",
              "3    0\n",
              "4    1\n",
              "Name: Result, dtype: int64"
            ]
          },
          "metadata": {
            "tags": []
          },
          "execution_count": 115
        }
      ]
    },
    {
      "cell_type": "code",
      "metadata": {
        "id": "_piZYwKY2YYx"
      },
      "source": [
        "#Splitting data into train and test data\r\n",
        "x_train,x_test,y_train,y_test = train_test_split(x,y,test_size = 0.2)"
      ],
      "execution_count": null,
      "outputs": []
    },
    {
      "cell_type": "code",
      "metadata": {
        "colab": {
          "base_uri": "https://localhost:8080/"
        },
        "id": "IBT1apmZ3J3U",
        "outputId": "07533098-7017-475e-f38c-4d120fc3dd01"
      },
      "source": [
        "#checking the shape of train and test data\r\n",
        "print(\"shape of original dataset :\", insurance_data.shape)\r\n",
        "print(\"shape of input - training set\", x_train.shape)\r\n",
        "print(\"shape of output - training set\", y_train.shape)\r\n",
        "print(\"shape of input - testing set\", x_test.shape)\r\n",
        "print(\"shape of output - testing set\", y_test.shape)\r\n"
      ],
      "execution_count": null,
      "outputs": [
        {
          "output_type": "stream",
          "text": [
            "shape of original dataset : (1005575, 13)\n",
            "shape of input - training set (804460, 12)\n",
            "shape of output - training set (804460,)\n",
            "shape of input - testing set (201115, 12)\n",
            "shape of output - testing set (201115,)\n"
          ],
          "name": "stdout"
        }
      ]
    },
    {
      "cell_type": "code",
      "metadata": {
        "id": "hRPWew_7ISgG"
      },
      "source": [
        "##Stage 1: Building the models with imbalanced dataset\r\n",
        "\r\n",
        "#check model using xgboost classifier\r\n",
        "# import library\r\n",
        "import xgboost as xgb\r\n",
        "from xgboost import XGBClassifier\r\n",
        "from sklearn.metrics import accuracy_score\r\n",
        "xgb_model = XGBClassifier().fit(x_train, y_train)\r\n",
        "# predict\r\n",
        "xgb_y_predict = xgb_model.predict(x_test)\r\n",
        "# accuracy score\r\n",
        "xgb_score = accuracy_score(xgb_y_predict, y_test)\r\n",
        "print('Accuracy score is:', xgb_score)"
      ],
      "execution_count": null,
      "outputs": []
    },
    {
      "cell_type": "markdown",
      "metadata": {
        "id": "t_tzHWnnIzA5"
      },
      "source": [
        "here used XGBclassifier with imbalance data. we are getting 75% accuracy becuase predicting mostly majority class"
      ]
    },
    {
      "cell_type": "code",
      "metadata": {
        "id": "s571WCHWI9B7"
      },
      "source": [
        "##Model using random forest ensemble classifer \r\n",
        "# load library\r\n",
        "\r\n",
        "from sklearn.metrics import roc_auc_score\r\n",
        "from sklearn.metrics import accuracy_score\r\n",
        "\r\n",
        "from sklearn.metrics import classification_report\r\n",
        "\r\n",
        "rfc = RandomForestClassifier()\r\n",
        "#fit the predictor and target\r\n",
        "rfc.fit(x_train, y_train)\r\n",
        "# predict\r\n",
        "\r\n",
        "rfc_predict = rfc.predict(x_test)# check performance\r\n",
        "print('ROCAUC score:',roc_auc_score(y_test, rfc_predict))\r\n",
        "print('Accuracy score:',accuracy_score(y_test, rfc_predict))\r\n",
        "print('F1 score:',f1_score(y_test, rfc_predict))\r\n",
        "# print classification report \r\n",
        "predictions = rfc.predict(x_test)\r\n",
        "print(classification_report(y_test, predictions)) "
      ],
      "execution_count": null,
      "outputs": []
    },
    {
      "cell_type": "markdown",
      "metadata": {
        "id": "2esnN4xDJiZ5"
      },
      "source": [
        "using random forest ensemble method recall n f1 score is improved at majority class only ,along with that model accuracy is 73%"
      ]
    },
    {
      "cell_type": "code",
      "metadata": {
        "colab": {
          "base_uri": "https://localhost:8080/"
        },
        "id": "gNW0PXsXSHOZ",
        "outputId": "fe24a9ee-aed2-466e-c116-367685267eb4"
      },
      "source": [
        "# logistic regression model\r\n",
        "lr = LogisticRegression() \r\n",
        "  \r\n",
        "# train the model on train set \r\n",
        "lr.fit(x_train, y_train.ravel()) \r\n",
        "  \r\n",
        "predictions = lr.predict(x_test) \r\n",
        "  \r\n",
        "# print classification report \r\n",
        "print(classification_report(y_test, predictions)) "
      ],
      "execution_count": null,
      "outputs": [
        {
          "output_type": "stream",
          "text": [
            "/usr/local/lib/python3.6/dist-packages/sklearn/metrics/_classification.py:1272: UndefinedMetricWarning: Precision and F-score are ill-defined and being set to 0.0 in labels with no predicted samples. Use `zero_division` parameter to control this behavior.\n",
            "  _warn_prf(average, modifier, msg_start, len(result))\n"
          ],
          "name": "stderr"
        },
        {
          "output_type": "stream",
          "text": [
            "              precision    recall  f1-score   support\n",
            "\n",
            "           0       0.00      0.00      0.00     50371\n",
            "           1       0.75      1.00      0.86    150744\n",
            "\n",
            "    accuracy                           0.75    201115\n",
            "   macro avg       0.37      0.50      0.43    201115\n",
            "weighted avg       0.56      0.75      0.64    201115\n",
            "\n"
          ],
          "name": "stdout"
        }
      ]
    },
    {
      "cell_type": "markdown",
      "metadata": {
        "id": "uUDLT4TAv77k"
      },
      "source": [
        "we can see here f1 score for minority class is 0 and for majority class is 0.86 which is very huge difference between both classes and model accuracy is very less 75%"
      ]
    },
    {
      "cell_type": "code",
      "metadata": {
        "colab": {
          "base_uri": "https://localhost:8080/"
        },
        "id": "nuoNlInIxbbP",
        "outputId": "87a8120a-7a7e-427a-82b0-4f46ca7de0d0"
      },
      "source": [
        "##Stage 2: Model building with Balanced data\r\n",
        "# Data balancing using SMOTE oversampling technique\r\n",
        "print(\"Before OverSampling, counts of label '1': {}\".format(sum(y_train == 1))) \r\n",
        "print(\"Before OverSampling, counts of label '0': {} \\n\".format(sum(y_train == 0))) \r\n",
        "  \r\n",
        "# import SMOTE module from imblearn library \r\n",
        "# pip install imblearn (if you don't have imblearn in your system) \r\n",
        "\r\n",
        "sm = SMOTE(random_state = 2) \r\n",
        "x_train_res, y_train_res = sm.fit_sample(x_train, y_train.ravel()) \r\n",
        "  \r\n",
        "print('After OverSampling, the shape of train_x: {}'.format(x_train_res.shape)) \r\n",
        "print('After OverSampling, the shape of train_y: {} \\n'.format(y_train_res.shape)) \r\n",
        "  \r\n",
        "print(\"After OverSampling, counts of label '1': {}\".format(sum(y_train_res == 1))) \r\n",
        "print(\"After OverSampling, counts of label '0': {}\".format(sum(y_train_res == 0))) "
      ],
      "execution_count": null,
      "outputs": [
        {
          "output_type": "stream",
          "text": [
            "Before OverSampling, counts of label '1': 603012\n",
            "Before OverSampling, counts of label '0': 201448 \n",
            "\n"
          ],
          "name": "stdout"
        },
        {
          "output_type": "stream",
          "text": [
            "/usr/local/lib/python3.6/dist-packages/sklearn/utils/deprecation.py:87: FutureWarning: Function safe_indexing is deprecated; safe_indexing is deprecated in version 0.22 and will be removed in version 0.24.\n",
            "  warnings.warn(msg, category=FutureWarning)\n"
          ],
          "name": "stderr"
        },
        {
          "output_type": "stream",
          "text": [
            "After OverSampling, the shape of train_x: (1206024, 12)\n",
            "After OverSampling, the shape of train_y: (1206024,) \n",
            "\n",
            "After OverSampling, counts of label '1': 603012\n",
            "After OverSampling, counts of label '0': 603012\n"
          ],
          "name": "stdout"
        }
      ]
    },
    {
      "cell_type": "code",
      "metadata": {
        "colab": {
          "base_uri": "https://localhost:8080/"
        },
        "id": "JuHKm3R_zXzA",
        "outputId": "14130d65-2000-4524-b1ee-cb420731e13a"
      },
      "source": [
        "#model test after data balancing using logistic regression\r\n",
        "#prediction and recall\r\n",
        "lr1 = LogisticRegression() \r\n",
        "lr1.fit(x_train_res, y_train_res.ravel()) \r\n",
        "predictions = lr1.predict(x_test) \r\n",
        "  \r\n",
        "# print classification report \r\n",
        "print(classification_report(y_test, predictions)) "
      ],
      "execution_count": null,
      "outputs": [
        {
          "output_type": "stream",
          "text": [
            "              precision    recall  f1-score   support\n",
            "\n",
            "           0       0.25      0.57      0.35     50460\n",
            "           1       0.75      0.43      0.55    150655\n",
            "\n",
            "    accuracy                           0.47    201115\n",
            "   macro avg       0.50      0.50      0.45    201115\n",
            "weighted avg       0.62      0.47      0.50    201115\n",
            "\n"
          ],
          "name": "stdout"
        }
      ]
    },
    {
      "cell_type": "markdown",
      "metadata": {
        "id": "W0-NXjKqzu9S"
      },
      "source": [
        "using SMOTE algorithm checked accuracy again but recall is bit adjust but still not good output using oversampling. accuracy is very low 47%\r\n"
      ]
    },
    {
      "cell_type": "code",
      "metadata": {
        "id": "ip-Zkj1yHP1X",
        "colab": {
          "base_uri": "https://localhost:8080/"
        },
        "outputId": "21d40b95-1cf3-472d-f2b3-bb3fd40cc7fe"
      },
      "source": [
        "##Stage 3: data split using Startified fold for data balancing  \r\n",
        "from sklearn.model_selection import train_test_split\r\n",
        "from sklearn.model_selection import StratifiedShuffleSplit\r\n",
        "from sklearn.model_selection import StratifiedKFold\r\n",
        "\r\n",
        "print('No Frauds', round(insurance_data['Result'].value_counts()[1]/len(insurance_data) * 100,2), '% of the dataset')\r\n",
        "print('Frauds', round(insurance_data['Result'].value_counts()[0]/len(insurance_data) * 100,2), '% of the dataset')\r\n",
        "\r\n",
        "X = insurance_data.drop('Result', axis=1)\r\n",
        "y = insurance_data['Result']\r\n",
        "\r\n",
        "sss = StratifiedKFold(n_splits=5, random_state=None, shuffle=False)\r\n",
        "\r\n",
        "for train_index, test_index in sss.split(X, y):\r\n",
        "    print(\"Train:\", train_index, \"Test:\", test_index)\r\n",
        "    original_Xtrain, original_Xtest = X.iloc[train_index], X.iloc[test_index]\r\n",
        "    original_ytrain, original_ytest = y.iloc[train_index], y.iloc[test_index]\r\n",
        "# We already have X_train and y_train for undersample data thats why I am using original to distinguish and to not overwrite these variables.\r\n",
        "# original_Xtrain, original_Xtest, original_ytrain, original_ytest = train_test_split(X, y, test_size=0.2, random_state=42)\r\n",
        "\r\n",
        "# Check the Distribution of the labels\r\n",
        "\r\n",
        "\r\n",
        "# Turn into an array\r\n",
        "original_Xtrain = original_Xtrain.values\r\n",
        "original_Xtest = original_Xtest.values\r\n",
        "original_ytrain = original_ytrain.values\r\n",
        "original_ytest = original_ytest.values\r\n",
        "\r\n",
        "# See if both the train and test label distribution are similarly distributed\r\n",
        "train_unique_label, train_counts_label = np.unique(original_ytrain, return_counts=True)\r\n",
        "test_unique_label, test_counts_label = np.unique(original_ytest, return_counts=True)\r\n",
        "print('-' * 100)\r\n",
        "\r\n",
        "print('Label Distributions: \\n')\r\n",
        "print(train_counts_label/ len(original_ytrain))\r\n",
        "print(test_counts_label/ len(original_ytest))\r\n"
      ],
      "execution_count": null,
      "outputs": [
        {
          "output_type": "stream",
          "text": [
            "No Frauds 74.95 % of the dataset\n",
            "Frauds 25.05 % of the dataset\n",
            "Train: [ 200429  200436  200439 ... 1005572 1005573 1005574] Test: [     0      1      2 ... 201338 201339 201340]\n",
            "Train: [      0       1       2 ... 1005572 1005573 1005574] Test: [200429 200436 200439 ... 403174 403178 403187]\n",
            "Train: [      0       1       2 ... 1005572 1005573 1005574] Test: [401905 401906 401907 ... 603349 603350 603351]\n",
            "Train: [      0       1       2 ... 1005572 1005573 1005574] Test: [603309 603313 603316 ... 804721 804733 804745]\n",
            "Train: [     0      1      2 ... 804721 804733 804745] Test: [ 804378  804379  804380 ... 1005572 1005573 1005574]\n",
            "----------------------------------------------------------------------------------------------------\n",
            "Label Distributions: \n",
            "\n",
            "[0.2505109 0.7494891]\n",
            "[0.25051339 0.74948661]\n"
          ],
          "name": "stdout"
        }
      ]
    },
    {
      "cell_type": "code",
      "metadata": {
        "id": "FLb_m5RBHdCS",
        "colab": {
          "base_uri": "https://localhost:8080/",
          "height": 222
        },
        "outputId": "c826d0b5-c907-4527-9401-40a95740faea"
      },
      "source": [
        "# Since our classes are highly skewed we should make them equivalent in order to have a normal distribution of the classes.\r\n",
        "# shuffle the data before creating the subsamples\r\n",
        "#Using Random Undersampling\r\n",
        "insurance_data = insurance_data.sample(frac=1)\r\n",
        "\r\n",
        "# amount of fraud classes 251896 rows.\r\n",
        "fraud_data = insurance_data.loc[insurance_data['Result'] == 0]\r\n",
        "non_fraud_data = insurance_data.loc[insurance_data['Result'] == 1][:251896]\r\n",
        "\r\n",
        "normal_dist_data = pd.concat([fraud_data, non_fraud_data])\r\n",
        "\r\n",
        "# Shuffle dataframe rows\r\n",
        "new_insurance = normal_dist_data.sample(frac=1, random_state=42)\r\n",
        "\r\n",
        "new_insurance.head()\r\n"
      ],
      "execution_count": null,
      "outputs": [
        {
          "output_type": "execute_result",
          "data": {
            "text/html": [
              "<div>\n",
              "<style scoped>\n",
              "    .dataframe tbody tr th:only-of-type {\n",
              "        vertical-align: middle;\n",
              "    }\n",
              "\n",
              "    .dataframe tbody tr th {\n",
              "        vertical-align: top;\n",
              "    }\n",
              "\n",
              "    .dataframe thead th {\n",
              "        text-align: right;\n",
              "    }\n",
              "</style>\n",
              "<table border=\"1\" class=\"dataframe\">\n",
              "  <thead>\n",
              "    <tr style=\"text-align: right;\">\n",
              "      <th></th>\n",
              "      <th>Hospital_Id</th>\n",
              "      <th>Age</th>\n",
              "      <th>Days_spend_hsptl</th>\n",
              "      <th>Home_or_self_care</th>\n",
              "      <th>ccs_diagnosis_code</th>\n",
              "      <th>ccs_procedure_code</th>\n",
              "      <th>apr_drg_description</th>\n",
              "      <th>Code_illness</th>\n",
              "      <th>Mortality_risk</th>\n",
              "      <th>Tot_charg</th>\n",
              "      <th>Tot_cost</th>\n",
              "      <th>ratio_of_total_costs_to_total_charges</th>\n",
              "      <th>Result</th>\n",
              "    </tr>\n",
              "  </thead>\n",
              "  <tbody>\n",
              "    <tr>\n",
              "      <th>1024949</th>\n",
              "      <td>0.771261</td>\n",
              "      <td>0.382402</td>\n",
              "      <td>0.871301</td>\n",
              "      <td>2.459213</td>\n",
              "      <td>-0.529177</td>\n",
              "      <td>1.327750</td>\n",
              "      <td>0.615172</td>\n",
              "      <td>1.031419</td>\n",
              "      <td>1.262686</td>\n",
              "      <td>0.294287</td>\n",
              "      <td>-0.076219</td>\n",
              "      <td>-0.315504</td>\n",
              "      <td>0</td>\n",
              "    </tr>\n",
              "    <tr>\n",
              "      <th>631956</th>\n",
              "      <td>-0.251671</td>\n",
              "      <td>0.382402</td>\n",
              "      <td>-0.349253</td>\n",
              "      <td>-0.431916</td>\n",
              "      <td>-0.897571</td>\n",
              "      <td>-1.112121</td>\n",
              "      <td>-0.991932</td>\n",
              "      <td>-1.156401</td>\n",
              "      <td>-0.762526</td>\n",
              "      <td>-0.361030</td>\n",
              "      <td>-0.354672</td>\n",
              "      <td>-0.130444</td>\n",
              "      <td>1</td>\n",
              "    </tr>\n",
              "    <tr>\n",
              "      <th>335288</th>\n",
              "      <td>0.560701</td>\n",
              "      <td>-1.081486</td>\n",
              "      <td>-1.532820</td>\n",
              "      <td>-0.431916</td>\n",
              "      <td>-0.106430</td>\n",
              "      <td>0.491550</td>\n",
              "      <td>1.515969</td>\n",
              "      <td>-1.156401</td>\n",
              "      <td>-0.762526</td>\n",
              "      <td>-0.393217</td>\n",
              "      <td>-0.372625</td>\n",
              "      <td>-0.081096</td>\n",
              "      <td>0</td>\n",
              "    </tr>\n",
              "    <tr>\n",
              "      <th>979447</th>\n",
              "      <td>0.765287</td>\n",
              "      <td>-1.813430</td>\n",
              "      <td>0.057598</td>\n",
              "      <td>-0.431916</td>\n",
              "      <td>0.117021</td>\n",
              "      <td>1.499572</td>\n",
              "      <td>0.164773</td>\n",
              "      <td>-1.156401</td>\n",
              "      <td>-0.762526</td>\n",
              "      <td>-0.447778</td>\n",
              "      <td>-0.374661</td>\n",
              "      <td>0.463339</td>\n",
              "      <td>1</td>\n",
              "    </tr>\n",
              "    <tr>\n",
              "      <th>266427</th>\n",
              "      <td>-0.357697</td>\n",
              "      <td>-1.813430</td>\n",
              "      <td>-0.349253</td>\n",
              "      <td>-0.431916</td>\n",
              "      <td>0.117021</td>\n",
              "      <td>-1.112121</td>\n",
              "      <td>0.164773</td>\n",
              "      <td>-1.156401</td>\n",
              "      <td>-0.762526</td>\n",
              "      <td>-0.454192</td>\n",
              "      <td>-0.415271</td>\n",
              "      <td>0.119496</td>\n",
              "      <td>0</td>\n",
              "    </tr>\n",
              "  </tbody>\n",
              "</table>\n",
              "</div>"
            ],
            "text/plain": [
              "         Hospital_Id       Age  ...  ratio_of_total_costs_to_total_charges  Result\n",
              "1024949     0.771261  0.382402  ...                              -0.315504       0\n",
              "631956     -0.251671  0.382402  ...                              -0.130444       1\n",
              "335288      0.560701 -1.081486  ...                              -0.081096       0\n",
              "979447      0.765287 -1.813430  ...                               0.463339       1\n",
              "266427     -0.357697 -1.813430  ...                               0.119496       0\n",
              "\n",
              "[5 rows x 13 columns]"
            ]
          },
          "metadata": {
            "tags": []
          },
          "execution_count": 13
        }
      ]
    },
    {
      "cell_type": "code",
      "metadata": {
        "id": "IF2ytfCLHeSs",
        "colab": {
          "base_uri": "https://localhost:8080/",
          "height": 365
        },
        "outputId": "6a6d6512-5ab6-4b99-be01-a313b649e58c"
      },
      "source": [
        "# Data balancing visualization using countplot\r\n",
        "import itertools \r\n",
        "print('Distribution of the Classes in the subsample dataset')\r\n",
        "print(new_insurance['Result'].value_counts()/len(new_insurance))\r\n",
        "\r\n",
        "sns.color_palette(\"pastel\")\r\n",
        "sns.countplot('Result', data=new_insurance)\r\n",
        "plt.title('Equally Distributed Classes', fontsize=14)\r\n",
        "plt.show()"
      ],
      "execution_count": null,
      "outputs": [
        {
          "output_type": "stream",
          "text": [
            "Distribution of the Classes in the subsample dataset\n",
            "0    0.500012\n",
            "1    0.499988\n",
            "Name: Result, dtype: float64\n"
          ],
          "name": "stdout"
        },
        {
          "output_type": "display_data",
          "data": {
            "image/png": "[encoded data removed]",
            "text/plain": [
              "<Figure size 432x288 with 1 Axes>"
            ]
          },
          "metadata": {
            "tags": [],
            "needs_background": "light"
          }
        }
      ]
    },
    {
      "cell_type": "code",
      "metadata": {
        "id": "U9VVoKHWKYzO"
      },
      "source": [
        "# Undersampling before cross validating (prone to overfit)\r\n",
        "X = new_insurance.drop('Result', axis=1)\r\n",
        "y = new_insurance['Result']"
      ],
      "execution_count": null,
      "outputs": []
    },
    {
      "cell_type": "code",
      "metadata": {
        "id": "f8YPuLnXKrWL"
      },
      "source": [
        "from sklearn.model_selection import train_test_split\r\n",
        "\r\n",
        "# This is explicitly used for undersampling.\r\n",
        "X_train, X_test, y_train, y_test = train_test_split(X, y, test_size=0.2, random_state=42)"
      ],
      "execution_count": null,
      "outputs": []
    },
    {
      "cell_type": "code",
      "metadata": {
        "id": "kCAPXJ7ZKyWE"
      },
      "source": [
        "# Turn the values into an array for feeding the classification algorithms.\r\n",
        "X_train = X_train.values\r\n",
        "X_test = X_test.values\r\n",
        "y_train = y_train.values\r\n",
        "y_test = y_test.values"
      ],
      "execution_count": null,
      "outputs": []
    },
    {
      "cell_type": "code",
      "metadata": {
        "id": "YJMVJMisK-Sy"
      },
      "source": [
        "# implement simple classifiers\r\n",
        "from sklearn.tree import DecisionTreeClassifier\r\n",
        "classifiers = {\r\n",
        "    \"LogisiticRegression\": LogisticRegression(),\r\n",
        "     \"Random Forest\": RandomForestClassifier(),\r\n",
        "    \"DecisionTreeClassifier\": DecisionTreeClassifier()\r\n",
        "}"
      ],
      "execution_count": null,
      "outputs": []
    },
    {
      "cell_type": "code",
      "metadata": {
        "id": "fu3LC1xIL5Y_",
        "colab": {
          "base_uri": "https://localhost:8080/"
        },
        "outputId": "afedc083-d88d-4715-8a6a-5e7b9e8da2cd"
      },
      "source": [
        "#Evaluating models using cross validation\r\n",
        "from sklearn.model_selection import cross_val_score\r\n",
        "\r\n",
        "\r\n",
        "for key, classifier in classifiers.items():\r\n",
        "    classifier.fit(X_train, y_train)\r\n",
        "    training_score = cross_val_score(classifier, X_train, y_train, cv=5)\r\n",
        "    print(\"Classifiers: \", classifier.__class__.__name__, \"Has a training score of\", round(training_score.mean(), 2) * 100, \"% accuracy score\")"
      ],
      "execution_count": null,
      "outputs": [
        {
          "output_type": "stream",
          "text": [
            "Classifiers:  LogisticRegression Has a training score of 50.0 % accuracy score\n",
            "Classifiers:  RandomForestClassifier Has a training score of 50.0 % accuracy score\n",
            "Classifiers:  DecisionTreeClassifier Has a training score of 50.0 % accuracy score\n"
          ],
          "name": "stdout"
        }
      ]
    },
    {
      "cell_type": "markdown",
      "metadata": {
        "id": "54Ayt_H0oufK"
      },
      "source": [
        "so by doing downsampling here we got very low accuracy for all three classifier"
      ]
    },
    {
      "cell_type": "code",
      "metadata": {
        "id": "0DGS8qldNGP3"
      },
      "source": [
        "###Stage 4: To improve the accuracy of model Upsampling is used"
      ],
      "execution_count": null,
      "outputs": []
    },
    {
      "cell_type": "code",
      "metadata": {
        "id": "p7H7E4FhH0Eo"
      },
      "source": [
        "#Upsampling: Random forest classifier\r\n",
        "#Divinding data into majority n minority class\r\n",
        "data_minority = insurance_data.loc[insurance_data['Result']==0]\r\n",
        "data_majority = insurance_data.loc[insurance_data['Result']==1]"
      ],
      "execution_count": null,
      "outputs": []
    },
    {
      "cell_type": "code",
      "metadata": {
        "id": "UI5BZGDAIjiE"
      },
      "source": [
        "#Resampling \r\n",
        "from sklearn.utils import resample\r\n",
        "data_minority_upsampled = resample(data_minority, replace=True, n_samples=753678, random_state=42)"
      ],
      "execution_count": null,
      "outputs": []
    },
    {
      "cell_type": "code",
      "metadata": {
        "id": "hI1oa9fuIrjL"
      },
      "source": [
        "data_upsampled = pd.concat([data_majority, data_minority_upsampled ], ignore_index=True)"
      ],
      "execution_count": null,
      "outputs": []
    },
    {
      "cell_type": "code",
      "metadata": {
        "id": "1Ef3OIRTIwE_"
      },
      "source": [
        "X = data_upsampled.drop(['Result'],axis=1).values\r\n",
        "Y = data_upsampled.Result.values"
      ],
      "execution_count": null,
      "outputs": []
    },
    {
      "cell_type": "code",
      "metadata": {
        "id": "U2kxGgL7I1lW"
      },
      "source": [
        "#Splitting data into train and test set\r\n",
        "from sklearn.model_selection import train_test_split\r\n",
        "\r\n",
        "X_train, X_test, Y_train, Y_test = train_test_split(X, Y, stratify=Y, test_size=0.3, random_state=42)"
      ],
      "execution_count": null,
      "outputs": []
    },
    {
      "cell_type": "code",
      "metadata": {
        "id": "WKsqKpBTJAEk"
      },
      "source": [
        "#Buiding Random Forest model using upsampling\r\n",
        "from sklearn.ensemble import RandomForestClassifier\r\n",
        "model_RF_upsampled = RandomForestClassifier(n_estimators=50, random_state=42)"
      ],
      "execution_count": null,
      "outputs": []
    },
    {
      "cell_type": "code",
      "metadata": {
        "colab": {
          "base_uri": "https://localhost:8080/"
        },
        "id": "smvXIzeiJCaK",
        "outputId": "720836a4-6afd-48d4-8e55-3e4eb165fe25"
      },
      "source": [
        "model_RF_upsampled.fit(X_train, Y_train)"
      ],
      "execution_count": null,
      "outputs": [
        {
          "output_type": "execute_result",
          "data": {
            "text/plain": [
              "RandomForestClassifier(bootstrap=True, ccp_alpha=0.0, class_weight=None,\n",
              "                       criterion='gini', max_depth=None, max_features='auto',\n",
              "                       max_leaf_nodes=None, max_samples=None,\n",
              "                       min_impurity_decrease=0.0, min_impurity_split=None,\n",
              "                       min_samples_leaf=1, min_samples_split=2,\n",
              "                       min_weight_fraction_leaf=0.0, n_estimators=50,\n",
              "                       n_jobs=None, oob_score=False, random_state=42, verbose=0,\n",
              "                       warm_start=False)"
            ]
          },
          "metadata": {
            "tags": []
          },
          "execution_count": 19
        }
      ]
    },
    {
      "cell_type": "code",
      "metadata": {
        "colab": {
          "base_uri": "https://localhost:8080/"
        },
        "id": "xePdj-zpJJZd",
        "outputId": "04f9ac58-f82d-4475-dc72-99f6f6821621"
      },
      "source": [
        "#Classification report for train data\r\n",
        "from sklearn.metrics import classification_report, confusion_matrix\r\n",
        "Y_pred = model_RF_upsampled.predict(X_train)\r\n",
        "\r\n",
        "print(classification_report(Y_train, Y_pred))"
      ],
      "execution_count": null,
      "outputs": [
        {
          "output_type": "stream",
          "text": [
            "              precision    recall  f1-score   support\n",
            "\n",
            "           0       0.99      0.99      0.99    527574\n",
            "           1       0.99      0.99      0.99    527567\n",
            "\n",
            "    accuracy                           0.99   1055141\n",
            "   macro avg       0.99      0.99      0.99   1055141\n",
            "weighted avg       0.99      0.99      0.99   1055141\n",
            "\n"
          ],
          "name": "stdout"
        }
      ]
    },
    {
      "cell_type": "code",
      "metadata": {
        "colab": {
          "base_uri": "https://localhost:8080/"
        },
        "id": "ZDqFmOISJNrt",
        "outputId": "4a9f8965-42b5-4c01-b086-83443422433a"
      },
      "source": [
        "#classification report for test data\r\n",
        "Y_pred_test = model_RF_upsampled.predict(X_test)\r\n",
        "\r\n",
        "print(classification_report(Y_test, Y_pred_test))"
      ],
      "execution_count": null,
      "outputs": [
        {
          "output_type": "stream",
          "text": [
            "              precision    recall  f1-score   support\n",
            "\n",
            "           0       0.85      0.89      0.87    226104\n",
            "           1       0.88      0.85      0.86    226100\n",
            "\n",
            "    accuracy                           0.87    452204\n",
            "   macro avg       0.87      0.87      0.87    452204\n",
            "weighted avg       0.87      0.87      0.87    452204\n",
            "\n"
          ],
          "name": "stdout"
        }
      ]
    },
    {
      "cell_type": "code",
      "metadata": {
        "colab": {
          "base_uri": "https://localhost:8080/"
        },
        "id": "ELms_799KbnS",
        "outputId": "d1dbd826-6f40-41cd-f92a-a584cf23f603"
      },
      "source": [
        "#confusion matrix for test data\r\n",
        "print(confusion_matrix(Y_test, Y_pred_test))"
      ],
      "execution_count": null,
      "outputs": [
        {
          "output_type": "stream",
          "text": [
            "[[201089  25015]\n",
            " [ 34885 191215]]\n"
          ],
          "name": "stdout"
        }
      ]
    },
    {
      "cell_type": "code",
      "metadata": {
        "colab": {
          "base_uri": "https://localhost:8080/"
        },
        "id": "1jNXS5okKgN3",
        "outputId": "7a71be6a-2a90-4264-de79-1ff239b4aa98"
      },
      "source": [
        "#classification report for whole data\n",
        "Y_pred_whole = model_RF_upsampled.predict(insurance_data.drop(['Result'],axis=1))\n",
        " \n",
        "print(classification_report(insurance_data.Result.values, Y_pred_whole))"
      ],
      "execution_count": null,
      "outputs": [
        {
          "output_type": "stream",
          "text": [
            "              precision    recall  f1-score   support\n",
            "\n",
            "           0       0.85      0.89      0.87    251908\n",
            "           1       0.96      0.95      0.95    753667\n",
            "\n",
            "    accuracy                           0.93   1005575\n",
            "   macro avg       0.90      0.92      0.91   1005575\n",
            "weighted avg       0.93      0.93      0.93   1005575\n",
            "\n"
          ],
          "name": "stdout"
        }
      ]
    },
    {
      "cell_type": "code",
      "metadata": {
        "colab": {
          "base_uri": "https://localhost:8080/"
        },
        "id": "Asq194kdKtl9",
        "outputId": "479a00aa-0a5d-4c9a-d373-fcfd0b279aed"
      },
      "source": [
        "##confusion matrix for whole data\r\n",
        "print(confusion_matrix(insurance_data.Result.values, Y_pred_whole))"
      ],
      "execution_count": null,
      "outputs": [
        {
          "output_type": "stream",
          "text": [
            "[[227970  23938]\n",
            " [ 80533 673134]]\n"
          ],
          "name": "stdout"
        }
      ]
    },
    {
      "cell_type": "code",
      "metadata": {
        "id": "O9F2jU3VKz9D",
        "colab": {
          "base_uri": "https://localhost:8080/"
        },
        "outputId": "775f28e6-da9b-4083-f189-c88eba51eb88"
      },
      "source": [
        "# Evaluating model using startified fold\r\n",
        "from sklearn.model_selection import StratifiedKFold \r\n",
        "# Create StratifiedKFold object. \r\n",
        "skf = StratifiedKFold(n_splits=10, shuffle=True, random_state=1) \r\n",
        "lst_accu_stratified = [] \r\n",
        "   \r\n",
        "for train_index, test_index in skf.split(X, Y): \r\n",
        "    x_train_fold, x_test_fold = X[train_index], X[test_index] \r\n",
        "    y_train_fold, y_test_fold = Y[train_index], Y[test_index] \r\n",
        "    model_RF_upsampled.fit(x_train_fold, y_train_fold) \r\n",
        "    lst_accu_stratified.append(model_RF_upsampled.score(x_test_fold, y_test_fold)) \r\n",
        "   \r\n",
        "# Print the output. \r\n",
        "print('List of possible accuracy:', lst_accu_stratified) \r\n",
        "print('\\nMaximum Accuracy That can be obtained from this model is:', \r\n",
        "      max(lst_accu_stratified)*100, '%') \r\n",
        "print('\\nMinimum Accuracy:', \r\n",
        "      min(lst_accu_stratified)*100, '%') \r\n",
        "print('\\nOverall Accuracy:', \r\n",
        "      np.mean(lst_accu_stratified)*100, '%') \r\n",
        "print('\\nStandard Deviation is:', np.std(lst_accu_stratified))"
      ],
      "execution_count": null,
      "outputs": [
        {
          "output_type": "stream",
          "text": [
            "List of possible accuracy: [0.9088864563638173, 0.9108236308753773, 0.9100540683981823, 0.9094636282217136, 0.9101270441503301, 0.9094762959916144, 0.9078177451669829, 0.9086403863760001, 0.9100999111016758, 0.9089123887112397]\n",
            "\n",
            "Maximum Accuracy That can be obtained from this model is: 91.08236308753773 %\n",
            "\n",
            "Minimum Accuracy: 90.78177451669829 %\n",
            "\n",
            "Overall Accuracy: 90.94301555356934 %\n",
            "\n",
            "Standard Deviation is: 0.0008399887023510728\n"
          ],
          "name": "stdout"
        }
      ]
    },
    {
      "cell_type": "code",
      "metadata": {
        "colab": {
          "base_uri": "https://localhost:8080/",
          "height": 265
        },
        "id": "cupZTD2jmiiu",
        "outputId": "536ad8c6-cb5d-42cb-efb0-ab13373d351d"
      },
      "source": [
        "#confusion matrix visualization using heatmap\r\n",
        "sns.heatmap(confusion_matrix(insurance_data.Result.values, Y_pred_whole), annot=True, fmt='.7g' )\r\n",
        "plt.show()"
      ],
      "execution_count": null,
      "outputs": [
        {
          "output_type": "display_data",
          "data": {
            "image/png": "[encoded data removed]",
            "text/plain": [
              "<Figure size 432x288 with 2 Axes>"
            ]
          },
          "metadata": {
            "tags": [],
            "needs_background": "light"
          }
        }
      ]
    },
    {
      "cell_type": "code",
      "metadata": {
        "colab": {
          "base_uri": "https://localhost:8080/"
        },
        "id": "U8Vk1AH2PRde",
        "outputId": "6f232c8b-03f0-4b3a-fc26-fa0cfa90ad22"
      },
      "source": [
        "#Saving the model\r\n",
        "from joblib import dump, load\r\n",
        "dump(model_RF_upsampled, 'model_RF_upsampled.joblib') "
      ],
      "execution_count": null,
      "outputs": [
        {
          "output_type": "execute_result",
          "data": {
            "text/plain": [
              "['model_RF_upsampled.joblib']"
            ]
          },
          "metadata": {
            "tags": []
          },
          "execution_count": 24
        }
      ]
    },
    {
      "cell_type": "code",
      "metadata": {
        "id": "aVwh2XGBsblz"
      },
      "source": [
        "## Building Decision tree classifier using upsampling\r\n",
        "from sklearn.tree import DecisionTreeClassifier\r\n",
        "from sklearn.model_selection import cross_val_score\r\n",
        "dt_upsampled = DecisionTreeClassifier(random_state=0)\r\n"
      ],
      "execution_count": null,
      "outputs": []
    },
    {
      "cell_type": "code",
      "metadata": {
        "colab": {
          "base_uri": "https://localhost:8080/"
        },
        "id": "SVhzHC87oI7g",
        "outputId": "379c8221-78e8-4eae-c80e-bee2e10cadc5"
      },
      "source": [
        "dt_upsampled.fit(X_train, Y_train)"
      ],
      "execution_count": null,
      "outputs": [
        {
          "output_type": "execute_result",
          "data": {
            "text/plain": [
              "DecisionTreeClassifier(ccp_alpha=0.0, class_weight=None, criterion='gini',\n",
              "                       max_depth=None, max_features=None, max_leaf_nodes=None,\n",
              "                       min_impurity_decrease=0.0, min_impurity_split=None,\n",
              "                       min_samples_leaf=1, min_samples_split=2,\n",
              "                       min_weight_fraction_leaf=0.0, presort='deprecated',\n",
              "                       random_state=0, splitter='best')"
            ]
          },
          "metadata": {
            "tags": []
          },
          "execution_count": 25
        }
      ]
    },
    {
      "cell_type": "code",
      "metadata": {
        "colab": {
          "base_uri": "https://localhost:8080/"
        },
        "id": "qSnh23aGnlYR",
        "outputId": "e1dbfbee-6e53-479c-a999-328cd20af792"
      },
      "source": [
        "#classification report for train data\r\n",
        "dt_y_pred = dt_upsampled.predict(X_train)\r\n",
        "\r\n",
        "print(classification_report(Y_train, dt_y_pred))"
      ],
      "execution_count": null,
      "outputs": [
        {
          "output_type": "stream",
          "text": [
            "              precision    recall  f1-score   support\n",
            "\n",
            "           0       0.99      1.00      0.99    527574\n",
            "           1       1.00      0.99      0.99    527567\n",
            "\n",
            "    accuracy                           0.99   1055141\n",
            "   macro avg       0.99      0.99      0.99   1055141\n",
            "weighted avg       0.99      0.99      0.99   1055141\n",
            "\n"
          ],
          "name": "stdout"
        }
      ]
    },
    {
      "cell_type": "code",
      "metadata": {
        "colab": {
          "base_uri": "https://localhost:8080/"
        },
        "id": "hoG4Rsm2nsdY",
        "outputId": "7701fb98-e924-4064-db50-42d1c12bca1a"
      },
      "source": [
        "#classification report for test data\r\n",
        "dt_y_pred_test = dt_upsampled.predict(X_test)\r\n",
        "\r\n",
        "print(classification_report(Y_test, dt_y_pred_test))"
      ],
      "execution_count": null,
      "outputs": [
        {
          "output_type": "stream",
          "text": [
            "              precision    recall  f1-score   support\n",
            "\n",
            "           0       0.75      0.91      0.82    226104\n",
            "           1       0.89      0.69      0.78    226100\n",
            "\n",
            "    accuracy                           0.80    452204\n",
            "   macro avg       0.82      0.80      0.80    452204\n",
            "weighted avg       0.82      0.80      0.80    452204\n",
            "\n"
          ],
          "name": "stdout"
        }
      ]
    },
    {
      "cell_type": "code",
      "metadata": {
        "colab": {
          "base_uri": "https://localhost:8080/"
        },
        "id": "AqVO_oTnpIpZ",
        "outputId": "bb11be43-eba5-468f-ba4d-a17d64e910f3"
      },
      "source": [
        "#confusion matrix for test data\r\n",
        "print(confusion_matrix(Y_test, dt_y_pred_test))"
      ],
      "execution_count": null,
      "outputs": [
        {
          "output_type": "stream",
          "text": [
            "[[205911  20193]\n",
            " [ 69593 156507]]\n"
          ],
          "name": "stdout"
        }
      ]
    },
    {
      "cell_type": "code",
      "metadata": {
        "colab": {
          "base_uri": "https://localhost:8080/"
        },
        "id": "R6TtTDhapMWg",
        "outputId": "6bec4dae-67cf-47cb-8650-43b3740f2f39"
      },
      "source": [
        "##classification report for whole data\r\n",
        "dt_Y_pred_whole = dt_upsampled.predict(insurance_data.drop(['Result'],axis=1))\r\n",
        "\r\n",
        "print(classification_report(insurance_data.Result.values, dt_Y_pred_whole))"
      ],
      "execution_count": null,
      "outputs": [
        {
          "output_type": "stream",
          "text": [
            "              precision    recall  f1-score   support\n",
            "\n",
            "           0       0.75      0.91      0.82    251908\n",
            "           1       0.97      0.90      0.93    753667\n",
            "\n",
            "    accuracy                           0.90   1005575\n",
            "   macro avg       0.86      0.90      0.88   1005575\n",
            "weighted avg       0.91      0.90      0.90   1005575\n",
            "\n"
          ],
          "name": "stdout"
        }
      ]
    },
    {
      "cell_type": "code",
      "metadata": {
        "colab": {
          "base_uri": "https://localhost:8080/"
        },
        "id": "wxPcUbkepQNK",
        "outputId": "5bad73b3-a8e0-4351-83c2-b8e0d79e41d1"
      },
      "source": [
        "#confusion matrix for whole data\r\n",
        "print(confusion_matrix(insurance_data.Result.values, dt_Y_pred_whole))"
      ],
      "execution_count": null,
      "outputs": [
        {
          "output_type": "stream",
          "text": [
            "[[229381  22527]\n",
            " [ 76487 677180]]\n"
          ],
          "name": "stdout"
        }
      ]
    },
    {
      "cell_type": "code",
      "metadata": {
        "colab": {
          "base_uri": "https://localhost:8080/"
        },
        "id": "ICY7rKOZp4Xq",
        "outputId": "fc8201bb-328f-4ee2-9c5e-f443c85b8a8e"
      },
      "source": [
        "#Evaluating model using stratified fold method\r\n",
        "from sklearn.model_selection import StratifiedKFold \r\n",
        "# Create StratifiedKFold object. \r\n",
        "skf = StratifiedKFold(n_splits=10, shuffle=True, random_state=1) \r\n",
        "lst_accu_stratified = [] \r\n",
        "   \r\n",
        "for train_index, test_index in skf.split(X, Y): \r\n",
        "    x_train_fold, x_test_fold = X[train_index], X[test_index] \r\n",
        "    y_train_fold, y_test_fold = Y[train_index], Y[test_index] \r\n",
        "    dt_upsampled.fit(x_train_fold, y_train_fold) \r\n",
        "    lst_accu_stratified.append(dt_upsampled.score(x_test_fold, y_test_fold)) \r\n",
        "   \r\n",
        "# Print the output. \r\n",
        "print('List of possible accuracy:', lst_accu_stratified) \r\n",
        "print('\\nMaximum Accuracy That can be obtained from this model is:', \r\n",
        "      max(lst_accu_stratified)*100, '%') \r\n",
        "print('\\nMinimum Accuracy:', \r\n",
        "      min(lst_accu_stratified)*100, '%') \r\n",
        "print('\\nOverall Accuracy:', \r\n",
        "      np.mean(lst_accu_stratified)*100, '%') \r\n",
        "print('\\nStandard Deviation is:', np.std(lst_accu_stratified))"
      ],
      "execution_count": null,
      "outputs": [
        {
          "output_type": "stream",
          "text": [
            "List of possible accuracy: [0.8364812419146184, 0.8370584137725147, 0.8381066109397287, 0.8373171459846751, 0.8366404617374863, 0.8356906869054095, 0.8351864874547216, 0.8377472899279526, 0.8371435774277867, 0.8362413257791872]\n",
            "\n",
            "Maximum Accuracy That can be obtained from this model is: 83.81066109397287 %\n",
            "\n",
            "Minimum Accuracy: 83.51864874547216 %\n",
            "\n",
            "Overall Accuracy: 83.6761324184408 %\n",
            "\n",
            "Standard Deviation is: 0.0008552818014713715\n"
          ],
          "name": "stdout"
        }
      ]
    },
    {
      "cell_type": "markdown",
      "metadata": {
        "id": "HgXrwPqoqaGr"
      },
      "source": [
        "> **`Stratified Cross Valiadtion`**: \r\n",
        "    Splits the data into k folds, making sure each fold is an appropriate representative of the original data. (class distribution, mean, variance, etc)\r\n",
        "\r\n",
        "\r\n"
      ]
    },
    {
      "cell_type": "code",
      "metadata": {
        "colab": {
          "base_uri": "https://localhost:8080/",
          "height": 265
        },
        "id": "swtjsrFPr3C8",
        "outputId": "044b02ed-b1fb-4a21-9a4d-0821b26479f2"
      },
      "source": [
        "sns.heatmap(confusion_matrix(insurance_data.Result.values, dt_Y_pred_whole), annot=True, fmt='.7g' )\r\n",
        "plt.show()"
      ],
      "execution_count": null,
      "outputs": [
        {
          "output_type": "display_data",
          "data": {
            "image/png": "[encoded data removed]",
            "text/plain": [
              "<Figure size 432x288 with 2 Axes>"
            ]
          },
          "metadata": {
            "tags": [],
            "needs_background": "light"
          }
        }
      ]
    },
    {
      "cell_type": "markdown",
      "metadata": {
        "id": "SCXx-bNCr7mM"
      },
      "source": [
        "Decision tree classifier gives final accuracy **83.67%**"
      ]
    },
    {
      "cell_type": "code",
      "metadata": {
        "id": "n19hHvoAu8As"
      },
      "source": [
        "from joblib import dump, load\r\n",
        "dump(dt_upsampled, 'dt_upsampled.joblib') "
      ],
      "execution_count": null,
      "outputs": []
    },
    {
      "cell_type": "code",
      "metadata": {
        "id": "zPajYqNuu84A"
      },
      "source": [
        "#xgboost model using upsampling\r\n",
        "from sklearn.ensemble import GradientBoostingClassifier\r\n",
        "xgboost_upsampled = GradientBoostingClassifier(n_estimators=100, learning_rate=1.0,\r\n",
        "      max_depth=1, random_state=0).fit(X_train, Y_train)"
      ],
      "execution_count": null,
      "outputs": []
    },
    {
      "cell_type": "code",
      "metadata": {
        "colab": {
          "base_uri": "https://localhost:8080/"
        },
        "id": "epMl7lkHvcDe",
        "outputId": "208c9e67-6226-456f-e53d-14fee29e5e38"
      },
      "source": [
        "#classification report for train data \r\n",
        "xgb_y_pred = xgboost_upsampled.predict(X_train)\r\n",
        "\r\n",
        "print(classification_report(Y_train, xgb_y_pred))"
      ],
      "execution_count": null,
      "outputs": [
        {
          "output_type": "stream",
          "text": [
            "              precision    recall  f1-score   support\n",
            "\n",
            "           0       0.51      0.50      0.50    527574\n",
            "           1       0.51      0.52      0.51    527567\n",
            "\n",
            "    accuracy                           0.51   1055141\n",
            "   macro avg       0.51      0.51      0.51   1055141\n",
            "weighted avg       0.51      0.51      0.51   1055141\n",
            "\n"
          ],
          "name": "stdout"
        }
      ]
    },
    {
      "cell_type": "code",
      "metadata": {
        "colab": {
          "base_uri": "https://localhost:8080/"
        },
        "id": "-0ylf7y6vsOS",
        "outputId": "26c95d95-7ab8-4501-8307-6c08021c5998"
      },
      "source": [
        "#classification report for test data\r\n",
        "xgb_y_pred_test = xgboost_upsampled.predict(X_test)\r\n",
        "\r\n",
        "print(classification_report(Y_test, xgb_y_pred_test))"
      ],
      "execution_count": null,
      "outputs": [
        {
          "output_type": "stream",
          "text": [
            "              precision    recall  f1-score   support\n",
            "\n",
            "           0       0.50      0.49      0.50    226104\n",
            "           1       0.50      0.52      0.51    226100\n",
            "\n",
            "    accuracy                           0.50    452204\n",
            "   macro avg       0.50      0.50      0.50    452204\n",
            "weighted avg       0.50      0.50      0.50    452204\n",
            "\n"
          ],
          "name": "stdout"
        }
      ]
    },
    {
      "cell_type": "markdown",
      "metadata": {
        "id": "SicCWQg8wMjb"
      },
      "source": [
        "upsampling or downsampling in xgboost it has same accuracy in both balancing methods"
      ]
    },
    {
      "cell_type": "code",
      "metadata": {
        "id": "dPjJZ0B6XEtE"
      },
      "source": [
        "### xgboost model using downsampling\r\n",
        "data_minority = insurance_data.loc[insurance_data['Result']==0]\r\n",
        "data_majority = insurance_data.loc[insurance_data['Result']==1]"
      ],
      "execution_count": null,
      "outputs": []
    },
    {
      "cell_type": "code",
      "metadata": {
        "id": "_jCMEB_3cPwP"
      },
      "source": [
        "#Resampling \r\n",
        "data_majority_downsampled = resample(data_majority, replace=False, n_samples=251896, random_state=42)"
      ],
      "execution_count": null,
      "outputs": []
    },
    {
      "cell_type": "code",
      "metadata": {
        "id": "xaLwWqS2c1rK"
      },
      "source": [
        "data_balanced = pd.concat([data_majority_downsampled, data_minority ], ignore_index=True)"
      ],
      "execution_count": null,
      "outputs": []
    },
    {
      "cell_type": "code",
      "metadata": {
        "id": "mfhPtGfvdTx3"
      },
      "source": [
        "X = data_balanced.drop(['Result'],axis=1).values\r\n",
        "Y = data_balanced.Result.values"
      ],
      "execution_count": null,
      "outputs": []
    },
    {
      "cell_type": "code",
      "metadata": {
        "id": "rdPE6zy5dXyA"
      },
      "source": [
        "#Splitting data in train and test data\r\n",
        "from sklearn.model_selection import train_test_split\r\n",
        "\r\n",
        "X_train, X_test, Y_train, Y_test = train_test_split(X, Y, stratify=Y, test_size=0.3, random_state=42)"
      ],
      "execution_count": null,
      "outputs": []
    },
    {
      "cell_type": "code",
      "metadata": {
        "id": "olxsnZrsWN5B"
      },
      "source": [
        "\r\n",
        "from sklearn.ensemble import GradientBoostingClassifier\r\n",
        "xgboost_downsampled = GradientBoostingClassifier(n_estimators=100, learning_rate=1.0,\r\n",
        "      max_depth=1, random_state=0).fit(X_train, Y_train)"
      ],
      "execution_count": null,
      "outputs": []
    },
    {
      "cell_type": "code",
      "metadata": {
        "colab": {
          "base_uri": "https://localhost:8080/"
        },
        "id": "G8HlTmPVXP1A",
        "outputId": "da8ff832-4f24-43b0-875d-163c4eb4a42e"
      },
      "source": [
        "#classification report for train data\r\n",
        "xboost_y_pred = xgboost_downsampled.predict(X_train)\r\n",
        "\r\n",
        "print(classification_report(Y_train, xboost_y_pred))"
      ],
      "execution_count": null,
      "outputs": [
        {
          "output_type": "stream",
          "text": [
            "              precision    recall  f1-score   support\n",
            "\n",
            "           0       0.51      0.50      0.50    176335\n",
            "           1       0.51      0.53      0.52    176327\n",
            "\n",
            "    accuracy                           0.51    352662\n",
            "   macro avg       0.51      0.51      0.51    352662\n",
            "weighted avg       0.51      0.51      0.51    352662\n",
            "\n"
          ],
          "name": "stdout"
        }
      ]
    },
    {
      "cell_type": "code",
      "metadata": {
        "colab": {
          "base_uri": "https://localhost:8080/"
        },
        "id": "vNhW9wx5XpHh",
        "outputId": "6f92dbdb-84cf-4b35-9b58-da80f9080e35"
      },
      "source": [
        "#classification report for test data\r\n",
        "y_pred_test = xgboost_downsampled.predict(X_test)\r\n",
        "\r\n",
        "print(classification_report(Y_test, y_pred_test))"
      ],
      "execution_count": null,
      "outputs": [
        {
          "output_type": "stream",
          "text": [
            "              precision    recall  f1-score   support\n",
            "\n",
            "           0       0.50      0.49      0.49     75573\n",
            "           1       0.50      0.51      0.51     75569\n",
            "\n",
            "    accuracy                           0.50    151142\n",
            "   macro avg       0.50      0.50      0.50    151142\n",
            "weighted avg       0.50      0.50      0.50    151142\n",
            "\n"
          ],
          "name": "stdout"
        }
      ]
    },
    {
      "cell_type": "code",
      "metadata": {
        "colab": {
          "base_uri": "https://localhost:8080/"
        },
        "id": "0EaSwmMcYqD_",
        "outputId": "63fb783c-3e26-4f7c-acd7-d3a8b6d24849"
      },
      "source": [
        "#confusion matrix for test data \r\n",
        "print(confusion_matrix(Y_test, y_pred_test))"
      ],
      "execution_count": null,
      "outputs": [
        {
          "output_type": "stream",
          "text": [
            "[[36662 38911]\n",
            " [36707 38862]]\n"
          ],
          "name": "stdout"
        }
      ]
    },
    {
      "cell_type": "code",
      "metadata": {
        "colab": {
          "base_uri": "https://localhost:8080/"
        },
        "id": "cLtikvw0ZB_N",
        "outputId": "81936e69-21d5-4a09-96ca-cae37517a7ad"
      },
      "source": [
        "#classification report for whole data\r\n",
        "y_pred_whole = xgboost_downsampled.predict(insurance_data.drop(['Result'],axis=1))\r\n",
        "\r\n",
        "print(classification_report(insurance_data.Result.values, y_pred_whole))"
      ],
      "execution_count": null,
      "outputs": [
        {
          "output_type": "stream",
          "text": [
            "              precision    recall  f1-score   support\n",
            "\n",
            "           0       0.25      0.49      0.34    251908\n",
            "           1       0.75      0.52      0.61    753667\n",
            "\n",
            "    accuracy                           0.51   1005575\n",
            "   macro avg       0.50      0.51      0.47   1005575\n",
            "weighted avg       0.63      0.51      0.54   1005575\n",
            "\n"
          ],
          "name": "stdout"
        }
      ]
    },
    {
      "cell_type": "code",
      "metadata": {
        "colab": {
          "base_uri": "https://localhost:8080/"
        },
        "id": "XEF9AOEvZb8r",
        "outputId": "231d0d91-d1cf-4333-a486-5450bbb86e71"
      },
      "source": [
        "#confusion matrix for whole data\r\n",
        "print(confusion_matrix(insurance_data.Result.values, y_pred_whole))"
      ],
      "execution_count": null,
      "outputs": [
        {
          "output_type": "stream",
          "text": [
            "[[124022 127886]\n",
            " [362897 390770]]\n"
          ],
          "name": "stdout"
        }
      ]
    },
    {
      "cell_type": "code",
      "metadata": {
        "colab": {
          "base_uri": "https://localhost:8080/"
        },
        "id": "hudMf6MzZqLN",
        "outputId": "533aaff3-f795-4f1d-e9bb-80a2ecb610b8"
      },
      "source": [
        "#Evaluating model using StratifiedKFold\r\n",
        "from sklearn.model_selection import StratifiedKFold \r\n",
        "# Create StratifiedKFold object. \r\n",
        "skf = StratifiedKFold(n_splits=10, shuffle=True, random_state=1) \r\n",
        "lst_accu_stratified = [] \r\n",
        "   \r\n",
        "for train_index, test_index in skf.split(X, Y): \r\n",
        "    x_train_fold, x_test_fold = X[train_index], X[test_index] \r\n",
        "    y_train_fold, y_test_fold = Y[train_index], Y[test_index] \r\n",
        "    xgboost_downsampled.fit(x_train_fold, y_train_fold) \r\n",
        "    lst_accu_stratified.append(xgboost_downsampled.score(x_test_fold, y_test_fold)) \r\n",
        "   \r\n",
        "# Print the output. \r\n",
        "print('List of possible accuracy:', lst_accu_stratified) \r\n",
        "print('\\nMaximum Accuracy That can be obtained from this model is:', \r\n",
        "      max(lst_accu_stratified)*100, '%') \r\n",
        "print('\\nMinimum Accuracy:', \r\n",
        "      min(lst_accu_stratified)*100, '%') \r\n",
        "print('\\nOverall Accuracy:', \r\n",
        "      np.mean(lst_accu_stratified)*100, '%') \r\n",
        "print('\\nStandard Deviation is:', np.std(lst_accu_stratified))"
      ],
      "execution_count": null,
      "outputs": [
        {
          "output_type": "stream",
          "text": [
            "List of possible accuracy: [0.5023322284194438, 0.5016375220817372, 0.5012008495266073, 0.499156428018499, 0.4998809051210798, 0.5021635569670504, 0.5052600238189758, 0.5005359269551409, 0.4969829297340214, 0.5051409289400556]\n",
            "\n",
            "Maximum Accuracy That can be obtained from this model is: 50.526002381897584 %\n",
            "\n",
            "Minimum Accuracy: 49.69829297340214 %\n",
            "\n",
            "Overall Accuracy: 50.142912995826116 %\n",
            "\n",
            "Standard Deviation is: 0.0024089913001092457\n"
          ],
          "name": "stdout"
        }
      ]
    },
    {
      "cell_type": "markdown",
      "metadata": {
        "id": "Ql-nHcyeuSkd"
      },
      "source": [
        "With downsampling xgboost gives very less accuracy i.e. 50% only"
      ]
    },
    {
      "cell_type": "code",
      "metadata": {
        "id": "ss0HpOZoZ8_a"
      },
      "source": [
        ""
      ],
      "execution_count": null,
      "outputs": []
    },
    {
      "cell_type": "code",
      "metadata": {
        "id": "19IN8HxMzNyd"
      },
      "source": [
        "pip install sweetviz"
      ],
      "execution_count": null,
      "outputs": []
    },
    {
      "cell_type": "code",
      "metadata": {
        "id": "Mp0TAH2jw0PC"
      },
      "source": [
        "# importing sweetviz\r\n",
        "import sweetviz as sv"
      ],
      "execution_count": null,
      "outputs": []
    },
    {
      "cell_type": "code",
      "metadata": {
        "id": "rIsyv2_yyuER"
      },
      "source": [
        "#analyzing the dataset\r\n",
        "EDA_report = sv.analyze(insurance_data)"
      ],
      "execution_count": null,
      "outputs": []
    },
    {
      "cell_type": "code",
      "metadata": {
        "id": "MIa69cnKy0bk"
      },
      "source": [
        "#display the report\r\n",
        "EDA_report.show_html('/content/drive/MyDrive/Colab Notebooks/insurance_data.html');"
      ],
      "execution_count": null,
      "outputs": []
    },
    {
      "cell_type": "code",
      "metadata": {
        "id": "aYqEkachcTIH",
        "colab": {
          "base_uri": "https://localhost:8080/"
        },
        "outputId": "45f7b8b3-21a1-445e-b574-2810e72d39f4"
      },
      "source": [
        "import platform\r\n",
        "print(platform.python_version())"
      ],
      "execution_count": null,
      "outputs": [
        {
          "output_type": "stream",
          "text": [
            "3.6.9\n"
          ],
          "name": "stdout"
        }
      ]
    }
  ]
}